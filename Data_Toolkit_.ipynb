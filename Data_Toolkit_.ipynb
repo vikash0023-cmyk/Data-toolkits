{
  "nbformat": 4,
  "nbformat_minor": 0,
  "metadata": {
    "colab": {
      "provenance": []
    },
    "kernelspec": {
      "name": "python3",
      "display_name": "Python 3"
    },
    "language_info": {
      "name": "python"
    }
  },
  "cells": [
    {
      "cell_type": "markdown",
      "source": [
        "1. What is NumPy, and why is it widely used in Python?\n",
        "\n",
        "- NumPy is a fundamental, open-source Python library for numerical computing. It provides a high-performance multidimensional array object, the ndarray, and an extensive collection of functions to operate on these arrays efficiently. The name is a portmanteau of \"Numerical Python\".\n",
        "Why NumPy is widely used in Python\n",
        "1. Faster and more memory-efficient than Python lists\n",
        "While Python's built-in lists can store elements of different data types, NumPy arrays are designed to be homogeneous (all elements are of the same type). This allows NumPy arrays to store data in a contiguous block of memory, which significantly improves speed and reduces memory usage for large datasets.\n",
        "2. Vectorization of mathematical operations\n",
        "NumPy performs operations on entire arrays at once, a concept known as vectorization. This eliminates the need for slow explicit Python loops, which makes the code more concise, readable, and faster.\n",
        "For example, to add two arrays a and b in NumPy, you simply write a + b, which is far more efficient than iterating through each element with a loop.\n",
        "3. Support for multidimensional arrays\n",
        "NumPy's ndarray objects can have any number of dimensions, making them ideal for representing matrices, tensors, and other forms of numerical data. This is crucial for applications in linear algebra, image processing, and machine learning.\n",
        "4. Broadcasting functionality\n",
        "Broadcasting is a powerful feature that allows NumPy to perform arithmetic operations on arrays of different shapes. It automatically aligns and \"stretches\" the smaller array to be compatible with the larger one, without creating copies of the data.\n",
        "5. Extensive library of mathematical functions\n",
        "NumPy provides a wide array of optimized mathematical functions (known as \"ufuncs\" or universal functions) for tasks ranging from basic arithmetic to complex operations like linear algebra, Fourier transforms, and random number generation.\n",
        "6. Foundation of the scientific computing ecosystem\n",
        "NumPy is the base upon which many other popular scientific Python libraries are built. These include:\n",
        "Pandas: Uses NumPy arrays for its core DataFrame and Series objects.\n",
        "SciPy: Offers a more extensive collection of scientific computing routines.\n",
        "Scikit-learn: A machine learning library that relies on NumPy arrays for data representation.\n",
        "Matplotlib: A plotting library that uses NumPy arrays to generate visualizations."
      ],
      "metadata": {
        "id": "aaj22Y2j1BjL"
      }
    },
    {
      "cell_type": "markdown",
      "source": [
        "2. How does broadcasting work in NumPy?\n",
        "\n",
        "- Broadcasting is a set of rules used by NumPy to perform element-wise arithmetic operations on arrays that have different shapes. It avoids unnecessary duplication of memory, allowing for efficient vectorization without explicit loops.\n",
        "The broadcasting rules determine whether two arrays are compatible for an operation and what the shape of the resulting array will be. The compatibility check is performed by comparing the shapes of the two arrays from the rightmost dimension to the left.\n",
        "NumPy broadcasting rules\n",
        "Match dimensions: If the two arrays have a different number of dimensions, the shape of the array with fewer dimensions is padded with ones on its left side until both arrays have the same number of dimensions.\n",
        "Compare shapes: The two arrays are compatible if, for each dimension, the sizes are either equal or one of them is 1.\n",
        "Resulting shape: The size of the output shape in each dimension is the maximum of the corresponding sizes of the input arrays.\n",
        "Incompatibility error: If the sizes disagree in any dimension and neither size is 1, a ValueError is raised.\n",
        "Examples of broadcasting\n",
        "Example 1: Scalar and array\n",
        "This is the simplest form of broadcasting. When a scalar is combined with an array, NumPy treats the scalar as an array with a dimension of 1 and broadcasts it to match the shape of the larger\n",
        "array.\n",
        "\n",
        "'''import numpy as np\n",
        "\n",
        "a = np.array([1, 2, 3])\n",
        "b = 5\n",
        "\n",
        "result = a + b\n",
        "print(f\"a.shape: {a.shape}\")\n",
        "print(f\"b: {b}\")\n",
        "print(f\"result: {result}\")'''\n",
        "# Output:\n",
        "# a.shape: (3,)\n",
        "# b: 5\n",
        "# result: [6 7 8]\n",
        "\n",
        "How it works:\n",
        "Step 1: The scalar b is conceptually given a dimension of 1, so its shape becomes (1,).\n",
        "Step 2: Comparing a.shape (3,) and the conceptual b.shape (1,), the dimensions are compatible because the size 1 can be stretched to 3.\n",
        "Step 3: The operation is performed, adding 5 to each element of a.\n",
        "\n",
        "\n",
        "Example 2: 1D array and 2D array\n",
        "\n",
        "This demonstrates broadcasting across dimensions to perform an operation on each row or column.\n",
        "\n",
        "'''import numpy as np\n",
        "\n",
        "M = np.ones((2, 3))\n",
        "a = np.arange(3)\n",
        "\n",
        "print(f\"M.shape: {M.shape}\")\n",
        "print(f\"a.shape: {a.shape}\")\n",
        "\n",
        "result = M + a\n",
        "print(f\"\\nResult:\\n{result}\")'''\n",
        "# Output:\n",
        "# M.shape: (2, 3)\n",
        "# a.shape: (3,)\n",
        "#\n",
        "# Result:\n",
        "# [[1. 2. 3.]\n",
        "#  [1. 2. 3.]]\n",
        "\n",
        "How it works:\n",
        "\n",
        "Step 1: The smaller-dimension array, a, is padded on the left. Its shape changes from (3,) to (1, 3).\n",
        "Step 2: The shapes (2, 3) and (1, 3) are compared from right to left. Both trailing dimensions are 3. The next dimension for a is 1, which is stretched to 2 to match M.\n",
        "Step 3: a is conceptually stretched to match M's shape, and the element-wise addition is performed.\n",
        "Example 3: Incompatible shapes\n",
        "If the dimensions do not match and neither has a size of 1, broadcasting will fail.\n",
        "\n",
        "Example 3: Incompatible shapes\n",
        "If the dimensions do not match and neither has a size of 1, broadcasting will fail.\n",
        "\n",
        "'''import numpy as np\n",
        "\n",
        "M = np.ones((3, 2))\n",
        "a = np.arange(3)\n",
        "\n",
        "print(f\"M.shape: {M.shape}\")\n",
        "print(f\"a.shape: {a.shape}\")\n",
        "\n",
        "try:\n",
        "    M + a\n",
        "except ValueError as e:\n",
        "    print(f\"\\nError: {e}\")'''\n",
        "# Output:\n",
        "# M.shape: (3, 2)\n",
        "# a.shape: (3,)\n",
        "#\n",
        "# Error: operands could not be broadcast together with shapes (3,2) (3,)\n",
        "\n",
        "How it works:\n",
        "\n",
        "Step 1: a's shape is padded, becoming (1, 3).\n",
        "Step 2: The shapes (3, 2) and (1, 3) are compared from right to left.\n",
        "The last dimension is 2 and 3. They are not equal, and neither is 1.\n",
        "Step 3: A ValueError is raised because the arrays are not broadcastable."
      ],
      "metadata": {
        "id": "7EyKhofa1LN5"
      }
    },
    {
      "cell_type": "markdown",
      "source": [
        "3. What is a Pandas DataFrame?\n",
        "\n",
        "- A Pandas DataFrame is a two-dimensional, mutable, and tabular data structure with labeled axes (rows and columns). It is the primary data structure of the Pandas library for the Python programming language and serves as a powerful and flexible tool for data manipulation and analysis.\n",
        "Core components and features\n",
        "Tabular structure: You can think of a DataFrame as a table similar to an Excel spreadsheet or a SQL database table.\n",
        "Labeled axes: Both the rows and columns have labels, which can be integers (like array indexing) or custom names.\n",
        "Heterogeneous data types: Unlike a NumPy array, which is homogenous, a DataFrame can hold columns of different data types, such as integers, floats, strings, and booleans.\n",
        "Collection of Series: A DataFrame is built from and can be thought of as a dictionary-like container of Pandas Series objects, where each column is a Series that shares a common index.\n",
        "Size-mutable: DataFrames can be resized, meaning you can add or remove rows and columns.\n",
        "Why DataFrames are so useful\n",
        "Handling diverse data: Its ability to store different data types in a single structure makes it ideal for working with real-world, often messy, datasets.\n",
        "Data cleaning and preprocessing: Pandas offers a wide range of built-in functions for tasks like handling missing data, filtering, and renaming rows or columns.\n",
        "Efficient operations: Since Pandas is built on top of NumPy, it leverages its underlying power for fast, vectorized operations, especially on large datasets.\n",
        "Integration with external data: DataFrames can easily import and export data from a variety of file formats, including CSV, Excel, and SQL databases.\n",
        "Data analysis: It provides powerful functionalities for grouping, aggregating, and summarizing data, which are crucial steps in the data analysis workflow."
      ],
      "metadata": {
        "id": "FWzGk9fh3EqU"
      }
    },
    {
      "cell_type": "markdown",
      "source": [
        "4. Explain the use of the groupby()\n",
        "method in Pandas.\n",
        "\n",
        "The groupby() method in Pandas is used to split a DataFrame into groups based on some criterion. This process, often referred to as \"split-apply-combine,\" is a fundamental and powerful feature for performing data analysis.\n",
        "How groupby() works: The \"split-apply-combine\" strategy\n",
        "Split: The original DataFrame is split into smaller, independent groups based on the values in one or more specified columns.\n",
        "Apply: A function (e.g., an aggregation, transformation, or filtering) is applied to each of these smaller groups.\n",
        "Combine: The results of the applied functions are combined into a new, consolidated DataFrame or Series.\n",
        "Common uses of groupby()\n",
        "Aggregation: Summarizing data for each group\n",
        "This is the most common use case. After grouping, you can apply a variety of aggregate functions to calculate summary statistics for each group.\n",
        "Example: Calculating the average score per student\n",
        "To calculate the average score for each student, you can group the DataFrame by the 'student' column and then apply the mean() aggregation function to the 'score' column. You can also group by multiple columns by passing a list of column names.\n",
        "Transformation: Modifying data within each group\n",
        "The transform() method allows you to apply a function to each group and return a DataFrame or Series with the same index as the original DataFrame. This is useful for tasks like standardizing data within each group. For example, you can calculate each student's score relative to their own average score.\n",
        "Filtering: Excluding groups based on a condition\n",
        "The filter() method is used to keep or discard entire groups based on whether they satisfy a given condition. For instance, you could filter a DataFrame to only include students who have more than one entry."
      ],
      "metadata": {
        "id": "YES4TW_n7Q6Z"
      }
    },
    {
      "cell_type": "markdown",
      "source": [
        "5. Why is Seaborn preferred for statistical visualizations?\n",
        "\n",
        "- Seaborn is a Python library built on top of Matplotlib that is specifically designed for creating statistical visualizations. While Matplotlib offers broad and deep functionality, Seaborn provides a high-level, opinionated interface that simplifies the creation of attractive, informative, and statistically-focused graphics with far less code.\n",
        "Key reasons for using Seaborn over Matplotlib for statistical visualizations\n",
        "\n",
        "1. Aesthetically pleasing defaults\n",
        "Seaborn comes with built-in, visually appealing themes and color palettes that make plots look professional without any manual tweaking. This allows users to focus on data interpretation rather than design aesthetics. In contrast, Matplotlib plots often require significant code to adjust colors, styles, and other visual aspects to achieve a polished look.\n",
        "\n",
        "2. Specialized for statistical graphics\n",
        "Unlike Matplotlib, which is a general-purpose plotting library, Seaborn includes functions tailored for specific statistical visualization needs. This includes advanced plots for:\n",
        "Distribution: Easily plot univariate and bivariate distributions with histplot() and kdeplot().\n",
        "Categorical data: Functions like barplot(), boxplot(), and violinplot() help visualize relationships between categorical and quantitative variables.\n",
        "Multivariate relationships: Advanced plots like pairplot() and jointplot() allow for the quick exploration of complex datasets with many variables.\n",
        "Linear regression: regplot() and lmplot() can automatically fit and visualize linear regression models with confidence intervals.\n",
        "\n",
        "3. Seamless integration with Pandas\n",
        "Seaborn is designed to work efficiently with Pandas DataFrames. Plotting functions can directly accept DataFrame column names for the x, y, hue, and other parameters, eliminating the need to extract data into separate variables. This streamlines the data analysis workflow, making it a natural extension of Pandas for exploratory data analysis.\n",
        "\n",
        "4. Automated complexity handling\n",
        "Seaborn abstracts away much of the boilerplate code required by Matplotlib to create complex, multi-layered plots. For example, pairplot() can generate a grid of scatter plots and histograms for every pairwise combination of variables in a single command. This makes it far easier to create complex, multi-panel visualizations that would require many more steps with Matplotlib alone.\n",
        "\n",
        "5. Built-in statistical estimation\n",
        "Many Seaborn plots automatically perform statistical estimation and aggregation before plotting. For example, a bar plot can display the mean of a variable for different categories, and many plots automatically show confidence intervals for those estimates. This functionality is integrated directly into the plotting functions, providing immediate insights into the underlying data distribution."
      ],
      "metadata": {
        "id": "hhT95xQA7v-x"
      }
    },
    {
      "cell_type": "markdown",
      "source": [
        "6. What are the differences between NumPy arrays and Python lists?\n",
        "\n",
        "- While both NumPy arrays (ndarray) and Python lists are used to store collections of data, they have fundamental differences that make them suitable for different tasks. NumPy arrays are optimized for numerical computation, while Python lists are more flexible for general-purpose use.\n",
        "\n",
        "Comparison of NumPy arrays vs. Python\n",
        "lists\n",
        "Feature     NumPy Array (ndarray)  \n",
        " Python List\n",
        "\n",
        "Data type   Homogeneous: All elements must be of the same data type. This allows for more compact and efficient storage.    Heterogeneous: Can contain elements of different data types (e.g., integers, floats, strings) within the same list. This provides flexibility but adds overhead.\n",
        "\n",
        "Performance Faster: Optimized for numerical operations, especially on large datasets. NumPy's core routines are written in C, leading to significantly faster execution.    Slower: For large numerical computations, lists are much slower due to the overhead of dynamic typing and storing different data types.\n",
        "Memory usage    Memory-efficient: Stores elements in a contiguous block of memory, which is more compact and cache-friendly.\n",
        "\n",
        "This reduces memory consumption for large arrays.  Higher memory usage: Stores elements in scattered memory locations, with each element's entry also storing type information and reference count overhead.\n",
        "\n",
        "Vectorization   Built-in: Supports powerful vectorized operations, allowing for element-wise mathematical operations on entire arrays without explicit loops.   No built-in support: Mathematical operations generally require explicit Python loops, which are less efficient than vectorized operations.\n",
        "Dimensions  Multidimensional: Designed to handle n-dimensional arrays, making it ideal for tasks in linear algebra, machine learning, and image processing. One-dimensional: Primarily a 1D data structure. While you can create a list of lists, it's not optimized for multidimensional operations.\n",
        "\n",
        "Size    Fixed size: The size is fixed at creation. Resizing an ndarray creates a new array in memory.   Dynamic size: Can grow or shrink in size dynamically by adding or removing elements.\n",
        "Creation    Requires importing the NumPy library (e.g., import numpy as np).    A built-in data structure in Python, created using square brackets [].\n",
        "Use case    Best for numerical and scientific computing, especially when performance on large datasets is critical. Excellent for general-purpose tasks that require flexibility, like storing different object types or frequent insertions and deletions."
      ],
      "metadata": {
        "id": "8vaYnkXL8JT0"
      }
    },
    {
      "cell_type": "markdown",
      "source": [
        "7. What is a heatmap, and when should\n",
        "it be used?\n",
        "- A heatmap is a graphical representation of data that uses a color-coded system to visualize degrees of intensity or activity, making it easy to spot patterns, trends, and anomalies. The data is often displayed as a grid or\n",
        " two-dimensional matrix, where warmer colors (such as red and orange) represent higher values, and cooler colors (like blue and green) represent lower values.\n",
        "\n",
        "A heatmap is most effective when you want to quickly analyze patterns and simplify large amounts of data. Key applications include:\n",
        "Analyzing user behavior: Use heatmaps to understand how visitors interact with your website. This helps you optimize website design, content placement, and calls-to-action to improve engagement and conversion rates.\n",
        "\n",
        "Exploratory data analysis: Heatmaps are excellent for getting a high-level overview of a new dataset. They can quickly highlight correlations, clusters, and outliers that might be hidden in raw data.\n",
        "Monitoring performance: In fields like manufacturing or finance, heatmaps can be used on a dashboard to monitor key metrics in real-time. This helps quickly identify bottlenecks or anomalies that require immediate attention.\n",
        "\n",
        "Geographic analysis: For visualizing any data that has a spatial component, such as sales performance by region, foot traffic in a store, or population density.\n",
        "Comparison and testing: When conducting A/B tests or comparing data across different categories, a heatmap can visually show how different versions or groups perform against each other."
      ],
      "metadata": {
        "id": "kwBIrXaxgDPZ"
      }
    },
    {
      "cell_type": "markdown",
      "source": [
        "8. What does the term \"vectorized operation\" mean in NumPy?\n",
        "\n",
        "- In NumPy, a vectorized operation is the process of applying a mathematical or logical function to an entire array or sequence of data at once, rather than using a Python for loop to process each element individually. This leverages highly optimized, pre-compiled code (often written in C or Fortran) that runs much faster than standard Python loops, leading to significant performance improvements."
      ],
      "metadata": {
        "id": "50xWhoigg-qv"
      }
    },
    {
      "cell_type": "markdown",
      "source": [
        "9. How does Matplotlib differ from  Plotly?\n",
        "\n",
        "Matplotlib and Plotly are both powerful Python libraries for data visualization, but they differ significantly in their core strengths and typical use cases:\n",
        "\n",
        "Interactivity:\n",
        "\n",
        "Matplotlib: Primarily designed for creating static, publication-quality plots. While some basic interactive features exist (like zooming and panning in certain environments), its strength lies in generating images for reports and papers.\n",
        "\n",
        "Plotly: Excels at creating interactive, web-based visualizations. Plotly charts can be easily embedded in web applications and dashboards, allowing users to hover, zoom, pan, and filter data directly within the visualization.\n",
        "\n",
        "Customization vs. Aesthetics:\n",
        "\n",
        "Matplotlib: Offers extensive and granular control over every aspect of a plot's appearance. This allows for highly customized, specific visualizations but can require more code and effort.\n",
        "\n",
        "Plotly: Provides elegant default aesthetics and built-in themes, often producing visually appealing interactive plots with less code. While customizable, it might offer less fine-grained control compared to Matplotlib in some areas.\n",
        "\n",
        "Ease of Use for Specific Tasks:\n",
        "Matplotlib: Can be more verbose for complex visualizations due to its emphasis on detailed control.\n",
        "\n",
        "Plotly Express: A high-level API within Plotly, simplifies the creation of common interactive plots with minimal code, making it very user-friendly for quick exploration and dashboard building.\n",
        "\n",
        "Output Format:\n",
        "\n",
        "Matplotlib: Typically outputs static image files (PNG, JPG, PDF, SVG) or displays plots in interactive environments like Jupyter notebooks.\n",
        "Plotly: Generates interactive HTML files or can be integrated into web applications for dynamic, browser-based visualizations."
      ],
      "metadata": {
        "id": "UtR-Alo0hPUU"
      }
    },
    {
      "cell_type": "markdown",
      "source": [
        "10. What is the significance of\n",
        "hierarchical indexing in Pandas?\n",
        "\n",
        "-Hierarchical indexing, or MultiIndex, is significant in Pandas because it allows for the representation and manipulation of higher-dimensional data within lower-dimensional structures like DataFrames, enabling complex data analysis by using multiple levels of indexing to group and select data more efficiently. This capability is crucial for managing nested data, preserving relationships between different data levels, and performing advanced queries on grouped or structured data.\n",
        "\n",
        "Key Significances of Hierarchical Indexing:\n",
        "\n",
        "Handles Higher-Dimensional Data:\n",
        "It allows you to store and work with data that has more than two dimensions by adding additional levels of index to a Series or DataFrame.\n",
        "\n",
        "Sophisticated Data Analysis:\n",
        "\n",
        "It opens doors to more complex data analysis and manipulation by providing a framework for organizing and accessing data with multiple categorical variables.\n",
        "\n",
        "Preserves Data Relationships:\n",
        "\n",
        "Hierarchical indexing helps maintain the inherent relationships and structure of the data, which is vital for tasks like working with nested categories or grouped information.\n",
        "\n",
        "Optimized Data Selection:\n",
        "\n",
        "By using multiple index levels, you can select specific subsets of data more precisely and efficiently, making complex queries simpler to construct.\n",
        "\n",
        "Intuitive Data Structuring:\n",
        "\n",
        "It provides a natural way to structure data that naturally fits into a hierarchical format, such as employees within departments and locations, or product categories and subcategories.\n",
        "Enables Powerful Grouping and Pivoting:\n",
        "In conjunction with methods like groupby(), pivot_table(), and unstack(), hierarchical indexing facilitates advanced data reshaping and analysis, making it easier to derive insights from complex datasets."
      ],
      "metadata": {
        "id": "Fs8LgLx1i6gP"
      }
    },
    {
      "cell_type": "markdown",
      "source": [
        "11. What is the role of Seaborn's\n",
        "pairplot() function?\n",
        "\n",
        "-Seaborn's pairplot() function is a powerful tool for visualizing relationships between multiple variables in a dataset. Its primary role is to create a grid of plots, allowing for a quick and comprehensive overview of the data's structure and potential correlations.\n",
        "\n",
        "Here's a breakdown of its key functions:\n",
        "\n",
        "Visualizing Pairwise Relationships:\n",
        "pairplot() generates a matrix of scatter plots for every possible pair of numerical variables in the dataset. This helps in identifying linear or non-linear relationships, clusters, and outliers between different features.\n",
        "Displaying Univariate Distributions:\n",
        "On the diagonal of the plot grid, pairplot() displays the univariate distribution of each variable. By default, this is a histogram or a kernel density estimate (KDE) plot, providing insight into the spread and shape of individual variable distributions.\n",
        "\n",
        "Facilitating Exploratory Data Analysis (EDA):\n",
        "\n",
        "pairplot() is a cornerstone of EDA, enabling data analysts and scientists to quickly understand the underlying structure of their data, identify potential patterns, and gain insights into variable interactions before formal modeling.\n",
        "\n",
        "Aiding Feature Selection:\n",
        "\n",
        "By visually inspecting the relationships between variables, pairplot() can help in identifying features that are strongly correlated or exhibit distinct patterns, which can then be prioritized for model building or further investigation.\n",
        "\n",
        "Customization and Flexibility:\n",
        "\n",
        "While providing a convenient default visualization, pairplot() also offers extensive customization options through various parameters, allowing users to control plot types, colors, and other visual aspects to suit specific analysis needs."
      ],
      "metadata": {
        "id": "m4SZztjDjbJB"
      }
    },
    {
      "cell_type": "markdown",
      "source": [
        "12. What is the purpose of the describe() function in Pandas?\n",
        "\n",
        "- The describe() function in Pandas is used to generate descriptive statistics of a DataFrame or Series. Its primary purpose is to provide a quick and insightful summary of the data, aiding in initial data exploration and understanding.\n",
        "\n",
        "Key information provided by describe():\n",
        "For numerical columns:\n",
        "\n",
        "count: The number of non-null values.\n",
        "mean: The average value.\n",
        "std: The standard deviation, indicating the spread of the data.\n",
        "min: The minimum value.\n",
        "25% (Q1): The 25th percentile (first quartile).\n",
        "50% (Q2): The 50th percentile (median).\n",
        "75% (Q3): The 75th percentile (third quartile).\n",
        "max: The maximum value.\n",
        "For object (e.g., string) or categorical columns (when include='all' or include='O' is specified):\n",
        "count: The number of non-null values.\n",
        "unique: The number of distinct values.\n",
        "top: The most frequently occurring value.\n",
        "freq: The frequency of the most frequently occurring value.\n",
        "Purpose in Data Analysis:\n",
        "The describe() function is a fundamental tool for:\n",
        "Understanding Data Distribution:\n",
        "Quickly assessing the central tendency, spread, and range of numerical features.\n",
        "Identifying Potential Issues:\n",
        "Highlighting outliers, missing values (through count), or skewed distributions.\n",
        "Initial Data Quality Check:\n",
        "Providing a snapshot of data completeness and consistency.\n",
        "Feature Engineering Insights:\n",
        "Informing decisions about data transformations or scaling based on the distribution characteristics."
      ],
      "metadata": {
        "id": "_jSq-bgFj4YX"
      }
    },
    {
      "cell_type": "markdown",
      "source": [
        "13. Why is handling missing data\n",
        "important in Pandas?\n",
        "-Handling missing data in Pandas is crucial for ensuring the accuracy, reliability, and effectiveness of data analysis and machine learning models. The importance stems from several key reasons:\n",
        "Impact on Analysis Accuracy:\n",
        "Missing values, often represented as NaN (Not a Number), can skew statistical calculations and lead to incorrect insights and conclusions. For example, calculating the mean of a column with missing values without proper handling can result in an inaccurate average.\n",
        "Model Performance:\n",
        "Many machine learning algorithms cannot directly process datasets containing missing values. Ignoring them can lead to errors during model training or result in biased models that perform poorly on new data. Even algorithms that can handle missing values might still experience reduced performance if the missing data is not addressed.\n",
        "Bias Prevention:\n",
        "Missing data can introduce systematic bias into a dataset if the missingness is not random. For instance, if data is missing more frequently for a specific demographic group, analysis based on the incomplete data will not accurately represent the entire population, leading to flawed decision-making.\n",
        "Data Integrity and Usability:\n",
        "A clean dataset without missing values is more structured, complete, and easier to work with. This improves the overall quality of the data and makes it more readily usable for various analytical tasks and downstream applications.\n",
        "Statistical Power:\n",
        "Addressing missing data, either through removal or imputation, can help maintain or even increase the statistical power of an analysis by allowing the use of more data points and a wider range of statistical techniques.\n",
        "In essence, properly handling missing data is a fundamental step in data preprocessing that ensures the validity of your analysis and the robustness of any insights derived from your data."
      ],
      "metadata": {
        "id": "9M8Lkq3LkQHd"
      }
    },
    {
      "cell_type": "markdown",
      "source": [
        "14. What are the benefits of using\n",
        "Plotly for data visualization?\n",
        "\n",
        "-Ease of Use: With minimal code, you can generate complex plots. Interactivity: Plots are not just static images; they are interactive and can be easily exported as HTML files. Data Exploration: Helps in rapidly gaining insights into datasets by visualizing trends and distributions."
      ],
      "metadata": {
        "id": "visedKSAkh4z"
      }
    },
    {
      "cell_type": "markdown",
      "source": [
        "15. How does NumPy handle\n",
        "multidimensional arrays?\n",
        "\n",
        "NumPy handles multidimensional arrays through its core object, the ndarray (N-dimensional array). This object represents a homogeneous multidimensional array, meaning all elements within the array must be of the same data type.\n",
        "Key aspects of how NumPy handles multidimensional arrays include:\n",
        "Homogeneous Data Type:\n",
        "All elements within a ndarray must share the same data type (e.g., all integers, all floats). This homogeneity allows for efficient storage and computation.\n",
        "Shape and Axes:\n",
        "Multidimensional arrays are defined by their shape, which is a tuple of non-negative integers representing the size of each dimension (also called \"axes\"). For example, a 2D array (matrix) might have a shape of (rows, columns).\n",
        "Memory Layout:\n",
        "While conceptually multidimensional, NumPy arrays are often stored contiguously in memory as a single, flattened 1D array. The shape and strides (the number of bytes to skip in memory to get to the next element along each dimension) attributes determine how elements are accessed and interpreted as a multidimensional structure.\n",
        "Indexing and Slicing:\n",
        "NumPy provides powerful and flexible indexing and slicing mechanisms to access specific elements or subarrays within multidimensional arrays. This is achieved by providing indices for each dimension, or using slice objects (e.g., start:stop:step).\n",
        "Broadcasting:\n",
        "NumPy employs a feature called \"broadcasting,\" which allows operations between arrays of different shapes under certain compatibility rules. This eliminates the need for explicit loops and enables efficient element-wise operations on arrays with varying dimensions.\n",
        "Views vs. Copies:\n",
        "Many NumPy operations on multidimensional arrays, particularly slicing and reshaping, can return \"views\" of the original data rather than creating new copies. This optimizes memory usage and performance by allowing multiple array objects to share the same underlying data buffer.\n",
        "Array Creation Functions:\n",
        "NumPy offers various functions for creating multidimensional arrays, such as np.array() (from Python lists or other array-like objects), np.zeros(), np.ones(), np.empty(), and np.arange(), which can be specified with desired shapes."
      ],
      "metadata": {
        "id": "EUjVGG4nkzhz"
      }
    },
    {
      "cell_type": "markdown",
      "source": [
        "16. What is the role of Bokeh in data\n",
        " visualization?\n",
        "\n",
        "Bokeh's role in data visualization is to enable the creation of interactive,\n",
        " web-based visualizations using Python. It serves as a powerful tool for building engaging and informative graphics, from simple plots to complex dashboards, that can be easily shared and explored in modern web browsers.\n",
        "Here's a breakdown of its key functions:\n",
        "Interactive Web Visualizations:\n",
        "Bokeh's primary strength lies in its ability to generate interactive plots and dashboards that can be embedded in web pages, displayed in Jupyter notebooks, or served as standalone web applications. This interactivity allows users to zoom, pan, filter, and inspect data directly within the visualization.\n",
        "Python-centric Web Development:\n",
        "Bokeh allows users to create JavaScript-powered visualizations without needing to write any JavaScript code themselves. This simplifies the development process for Python users who want to leverage the power of web-based interactivity.\n",
        "High-Performance Plotting:\n",
        "Bokeh is designed for high-performance rendering, making it suitable for visualizing large datasets and creating complex visualizations with many elements.\n",
        "Flexibility and Customization:\n",
        "It offers both high-level interfaces (like bokeh.plotting) for quickly creating common plot types and lower-level interfaces (like bokeh.models) for fine-grained control over every aspect of the visualization.\n",
        "Integration with Web Technologies:\n",
        "Bokeh generates HTML, CSS, and JavaScript output, making its visualizations\n",
        "highly compatible with web standards and easily embeddable in various web frameworks (e.g., Django, Flask).\n",
        "Dashboard Creation:\n",
        "Bokeh facilitates the creation of\n",
        "interactive dashboards, allowing users to combine multiple plots, widgets, and data sources into a single, cohesive interface for data exploration and presentation."
      ],
      "metadata": {
        "id": "K3n5sZYOlALE"
      }
    },
    {
      "cell_type": "markdown",
      "source": [
        "17. Explain the difference between\n",
        "apply() and map() in Pandas.\n",
        "\n",
        "-In Pandas, both apply() and map() are used to apply functions or transformations to data, but they differ in their scope and typical use cases:\n",
        "1. map():\n",
        "Scope:\n",
        "Exclusively designed for Series objects (which includes individual columns of a DataFrame).\n",
        "Purpose:\n",
        "Primarily used for element-wise substitution or mapping values based on a dictionary, another Series, or a function.\n",
        "Behavior:\n",
        "It iterates through each element of the Series and replaces it with a new value determined by the mapping.\n",
        "\n",
        "Example:\n",
        "\n",
        "'''     import pandas as pd\n",
        "    s = pd.Series([1, 2, 3])\n",
        "    mapping_dict = {1: 'one', 2: 'two', 3: 'three'}\n",
        "    s_mapped = s.map(mapping_dict)\n",
        "    # s_mapped will be:\n",
        "    # 0    one\n",
        "    # 1    two\n",
        "    # 2    three\n",
        "    # dtype: object '''\n",
        "\n",
        "2. apply():\n",
        "Scope: Can be used on both DataFrame and Series objects.\n",
        "Purpose: More versatile, allowing you to apply a function along an axis (row-wise or column-wise) of a DataFrame or to the values of a Series. It can handle more complex operations, including aggregations or functions that operate on entire rows or columns.\n",
        "Behavior: When used on a DataFrame, it applies the function to each row (default, axis=0) or each column (axis=1). When used on a Series, it applies the function element-wise, similar to map() but with broader capabilities for function arguments.\n",
        "\n",
        "Example (DataFrame):\n",
        "\n",
        "'''     import pandas as pd\n",
        "    df = pd.DataFrame({'A': [1, 2, 3], 'B': [4, 5, 6]})\n",
        "    df_sum_row = df.apply(sum, axis=1) # Sum of each row\n",
        "    # df_sum_row will be:\n",
        "    # 0     5\n",
        "    # 1     7\n",
        "    # 2     9\n",
        "    # dtype: int64 '''\n",
        "\n",
        "Key Differences Summarized:\n",
        "Applicability:\n",
        "map() is Series-only; apply() works on both Series and DataFrames.\n",
        "Primary Use Case:\n",
        "map() for element-wise value substitution/mapping; apply() for applying functions along axes or more complex transformations.\n",
        "Flexibility:\n",
        "apply() is generally more flexible as it can handle functions operating on entire rows/columns and accept additional arguments to the function.\n",
        "Performance:\n",
        "For simple element-wise mapping on a Series, map() can sometimes be slightly more performant than apply(). However, for more complex operations or DataFrame-wide transformations, apply() is the appropriate choice."
      ],
      "metadata": {
        "id": "UBD14PojlRZh"
      }
    },
    {
      "cell_type": "markdown",
      "source": [
        "18. What are some advanced features of NumPy?\n",
        "\n",
        "Advanced features of NumPy include broadcasting, allowing operations on arrays of different shapes, powerful indexing and slicing methods like fancy indexing, high-performance vectorized operations and universal functions that avoid slow Python loops, efficient array manipulation for reshaping and stacking, built-in linear algebra and Fourier transform capabilities, and the use of structured arrays for working with heterogeneous data.  \n",
        "Here's a closer look at these features:\n",
        "Broadcasting:\n",
        "This mechanism automatically expands the dimensions of smaller arrays to match larger ones during element-wise operations, enabling seamless computation between arrays with different shapes.\n",
        "Advanced Indexing & Slicing:\n",
        "Beyond basic slicing, NumPy offers powerful techniques such as:\n",
        "Fancy Indexing: Using arrays of integers or booleans to select specific elements, creating views or new arrays based on complex conditions.\n",
        "Boolean Indexing: Applying boolean masks to filter array elements based on specific criteria.\n",
        "Vectorized Operations & Universal Functions (ufuncs):\n",
        "NumPy's operations, like addition, multiplication, and more complex mathematical functions, are performed element-wise on arrays.\n",
        "These operations are implemented in C, making them significantly faster than traditional Python loops and are often referred to as universal functions (ufuncs).\n",
        "Array Manipulation:\n",
        "Reshaping: Functions like reshape() allow you to change the dimensions of an array without altering its data.\n",
        "Stacking: vstack(), hstack(), and concatenate() enable you to combine multiple arrays vertically, horizontally, or along a specified axis.\n",
        "Sorting: Built-in functions efficiently sort rows, columns, or entire arrays.\n",
        "Linear Algebra and Fourier Transforms:\n",
        "NumPy includes a dedicated module for performing advanced linear algebra operations, such as matrix multiplication, decomposition, and calculating determinants.\n",
        "Structured Arrays:\n",
        "These arrays allow you to define arrays with elements of different data types and names, essentially creating records within the array, which is useful for handling heterogeneous datasets."
      ],
      "metadata": {
        "id": "fzXvQ4chl3mZ"
      }
    },
    {
      "cell_type": "markdown",
      "source": [
        "19. How does Pandas simplify time\n",
        "series analysis?\n",
        "\n",
        "Pandas simplifies time series analysis through its specialized data structures and functions designed to handle date and time data efficiently.\n",
        "Key Simplifications:\n",
        "DatetimeIndex:\n",
        "Pandas introduces the DatetimeIndex, a powerful index type specifically for time series data. This allows for:\n",
        "Time-based indexing and slicing: Easily select data using date and time strings (e.g., '2024', '2024-03', '2024-03-15':'2024-03-20').\n",
        "Partial string indexing: Select all data for a specific year, month, or day using partial date strings.\n",
        "Convenient Date/Time Conversion:\n",
        "pd.to_datetime(): Converts various date/time formats (strings, integers) into standardized Timestamp objects, which are the fundamental building blocks for DatetimeIndex.\n",
        "Resampling and Aggregation:\n",
        "resample(): Enables convenient aggregation of time series data to different frequencies (e.g., hourly to daily, daily to monthly) using various aggregation functions (mean, sum, max, etc.).\n",
        "Time-based Operations:\n",
        "Shifting and Lagging: Easily shift or lag data points by a specified time period using methods like shift().\n",
        "Rolling Calculations: Perform rolling window calculations (e.g., moving averages, rolling sums) using rolling().\n",
        "Handling Time Zone Information:\n",
        "Pandas provides tools to handle and convert between different time zones, crucial for global time series data.\n",
        "Date Range Generation:\n",
        "pd.date_range(): Generates sequences of dates or times with specified frequencies, useful for creating time series or aligning data.\n",
        "Accessing Date/Time Components:\n",
        "The .dt accessor allows easy extraction of various date and time components (year, month, day, hour, minute, weekday, etc.) from DatetimeIndex or Timestamp objects."
      ],
      "metadata": {
        "id": "eA5mC71LmMKx"
      }
    },
    {
      "cell_type": "markdown",
      "source": [
        "20. What is the role of a pivot tablein Pandas?\n",
        "\n",
        "In Pandas, a pivot table's primary role is to summarize and analyze large, detailed datasets by transforming them into a more readable, organized, and insightful report. It works by grouping and aggregating data based on specified row and column indices, allowing you to quickly calculate summary statistics like sums, averages, or counts for different categories within the data. This process helps in identifying trends, patterns, and insights that might be obscured in the raw, unpivoted data.\n",
        "Here's a breakdown of its role:\n",
        "Data Summarization:\n",
        "It condenses large datasets, showing a summarized view of information by performing aggregate functions (e.g., sum, average, count) on selected columns.\n",
        "Data Reshaping and Rearranging:\n",
        "Pivot tables \"pivot\" or rotate data, transforming rows into columns and vice versa, to create different, more insightful views of the same data.\n",
        "Pattern Identification:\n",
        "By restructuring the data, it allows users to easily spot trends, patterns, and insights that might be hidden in a cluttered, raw dataset.\n",
        "Flexible Analysis:\n",
        "It provides a flexible way to group and aggregate data using multiple levels and variables, giving a comprehensive understanding of the dataset from various perspectives.\n",
        "Enhanced Visualization:\n",
        "A well-structured pivoted table organizes data in a way that is much easier to interpret and can serve as a basis for creating more meaningful charts and graphs for data visualization.\n",
        "Handling Complex Data:\n",
        "It's particularly useful for complex datasets with many variables, allowing for a more nuanced and precise analysis than raw data might provide."
      ],
      "metadata": {
        "id": "oI4_B6PxmdxK"
      }
    },
    {
      "cell_type": "markdown",
      "source": [
        "21. Why is NumPy's array slicing faster than Python's list slicing?\n",
        "\n",
        "NumPy's array slicing is significantly faster than Python's list slicing primarily due to the fundamental differences in how they store and manage data in memory, and the underlying implementation optimizations.\n",
        "Contiguous Memory Allocation and Homogeneous Data Types:\n",
        "NumPy Arrays: NumPy arrays store elements of a single, uniform data type (e.g., all integers, all floats) in a contiguous block of memory. This contiguous storage allows for efficient access and manipulation of data, as the processor can quickly fetch data from adjacent memory locations.\n",
        "Python Lists: Python lists are heterogeneous, meaning they can store elements of different data types. Each element in a Python list is a separate Python object, and the list itself stores references (pointers) to these objects, which can be scattered across different memory locations.\n",
        "Locality of Reference and Cache Efficiency:\n",
        "Due to contiguous memory allocation, NumPy arrays exhibit better locality of reference. When accessing elements in a slice, the data is likely to be present in the CPU's cache, leading to much faster retrieval compared to Python lists where elements might require fetching from various memory locations.\n",
        "C-level Implementation and Vectorization:\n",
        "NumPy is largely implemented in C and Fortran, which are compiled languages. This allows for highly optimized, low-level operations.\n",
        "NumPy leverages vectorization, enabling operations on entire arrays or slices at once without explicit Python loops. These vectorized operations are executed at compiled C speed, making them far more efficient than iterating through elements in Python lists, which involves Python's interpreter overhead for each element.\n",
        "Reduced Overhead:\n",
        "Python lists carry overhead associated with managing individual Python objects and their references. NumPy arrays, by storing raw data, reduce this overhead, especially for numerical computations."
      ],
      "metadata": {
        "id": "Zl_fM1NUmzZS"
      }
    },
    {
      "cell_type": "markdown",
      "source": [
        "22. What are some common use cases for Seaborn?\n",
        "\n",
        "Seaborn is a Python data visualization library built on top of Matplotlib, designed to simplify the creation of attractive and informative statistical graphics. Common use cases for Seaborn include:\n",
        "Exploratory Data Analysis (EDA):\n",
        "Seaborn excels at visualizing distributions of single variables (histograms, kernel density estimates), relationships between two variables (scatter plots, line plots), and relationships between multiple variables (pair plots, heatmaps). This helps in understanding data patterns, outliers, and potential correlations.\n",
        "Statistical Data Visualization:\n",
        "It provides high-level functions for plotting statistical relationships, such as regression plots to visualize linear relationships, and categorical plots (box plots, violin plots, bar plots) to compare distributions or aggregates across different categories.\n",
        "Presenting Insights:\n",
        "Seaborn's aesthetically pleasing default styles and color palettes make it suitable for creating publication-ready visualizations. It can be used to effectively communicate findings from data analysis to a wider audience.\n",
        "Working with Pandas DataFrames:\n",
        "Seaborn integrates seamlessly with Pandas DataFrames, allowing users to directly plot data from their structured datasets with minimal code.\n",
        "Creating Complex Multi-Plot Visualizations:\n",
        "Features like FacetGrid enable the creation of grids of plots, allowing for easy comparison of subsets of data based on categorical or temporal factors. This is particularly useful for exploring conditional relationships within a dataset."
      ],
      "metadata": {
        "id": "dp_PlWXOnDGI"
      }
    },
    {
      "cell_type": "code",
      "source": [
        "#1.\n",
        "\n",
        "import numpy as np\n",
        "\n",
        "# 1. Create a 2D NumPy array using a list of lists\n",
        "data = [[1, 2, 3, 4],\n",
        "        [5, 6, 7, 8],\n",
        "        [9, 10, 11, 12]]\n",
        "\n",
        "my_array = np.array(data)\n",
        "\n",
        "print(\"Original 2D array:\")\n",
        "print(my_array)\n",
        "\n",
        "# 2. Calculate the sum of each row by setting axis=1\n",
        "row_sums = np.sum(my_array, axis=1)\n",
        "\n",
        "print(\"\\nSum of each row:\")\n",
        "print(row_sums)"
      ],
      "metadata": {
        "colab": {
          "base_uri": "https://localhost:8080/"
        },
        "id": "R2iZtW71pABM",
        "outputId": "8784bb6a-bdbb-45fa-fa71-4a2c8e3f8537"
      },
      "execution_count": null,
      "outputs": [
        {
          "output_type": "stream",
          "name": "stdout",
          "text": [
            "Original 2D array:\n",
            "[[ 1  2  3  4]\n",
            " [ 5  6  7  8]\n",
            " [ 9 10 11 12]]\n",
            "\n",
            "Sum of each row:\n",
            "[10 26 42]\n"
          ]
        }
      ]
    },
    {
      "cell_type": "code",
      "source": [
        "#2.\n",
        "\n",
        "import pandas as pd\n",
        "\n",
        "#Create a sample DataFrame\n",
        "'''data = {'Name': ['Alice', 'Bob', 'Charlie', 'David'],\n",
        "        'Age': [25, 30, 35, 40],\n",
        "        'Salary': [50000, 60000, 70000, 80000]}\n",
        "df = pd.DataFrame(data)\n",
        "\n",
        "print(\"Original DataFrame:\")\n",
        "print(df)'''\n",
        "\n",
        "# Calculate the mean of the 'Age' column\n",
        "age_mean = df['Age'].mean()\n",
        "\n",
        "print(f\"\\nMean of the 'Age' column: {age_mean}\")"
      ],
      "metadata": {
        "colab": {
          "base_uri": "https://localhost:8080/"
        },
        "id": "DNrag6R_pR4e",
        "outputId": "f179305a-36a1-4ece-880a-be81e0c55b94"
      },
      "execution_count": null,
      "outputs": [
        {
          "output_type": "stream",
          "name": "stdout",
          "text": [
            "\n",
            "Mean of the 'Age' column: 32.5\n"
          ]
        }
      ]
    },
    {
      "cell_type": "code",
      "source": [
        "#3.\n",
        "\n",
        "import matplotlib.pyplot as plt #\n",
        "import numpy as np # Used for generating sample data\n",
        "\n",
        "# Sample data representing car age and speed\n",
        "x_values = np.array([5,7,8,7,2,17,2,9,4,11,12,9,6]) # Age of cars\n",
        "y_values = np.array([99,86,87,88,111,86,103,87,94,78,77,85,86]) # Speed of cars\n",
        "\n",
        "# Create the scatter plot\n",
        "plt.scatter(x_values, y_values) #\n",
        "\n",
        "# Add labels and a title for clarity\n",
        "plt.xlabel(\"Age of Car\") #\n",
        "plt.ylabel(\"Speed of Car\") #\n",
        "plt.title(\"Car Age vs. Speed\") #\n",
        "\n",
        "# Display the plot\n",
        "plt.show() #"
      ],
      "metadata": {
        "colab": {
          "base_uri": "https://localhost:8080/",
          "height": 240
        },
        "id": "tJZnyUXip8J9",
        "outputId": "df6ec462-652f-4ab5-aa72-9e82e862627a"
      },
      "execution_count": null,
      "outputs": [
        {
          "output_type": "display_data",
          "data": {
            "text/plain": [
              "<Figure size 640x480 with 1 Axes>"
            ],
            "image/png": "[encoded data removed]"
          },
          "metadata": {}
        }
      ]
    },
    {
      "cell_type": "code",
      "source": [
        "#4.\n",
        "\n",
        "import pandas as pd\n",
        "import seaborn as sns\n",
        "import matplotlib.pyplot as plt\n",
        "\n",
        "# Create a sample DataFrame\n",
        "data = {\n",
        "    'Feature_A': [10, 20, 30, 40, 50],\n",
        "    'Feature_B': [25, 35, 45, 55, 65],\n",
        "    'Feature_C': [5, 5, 25, 15, 35],\n",
        "    'Feature_D': [50, 40, 30, 20, 10]\n",
        "}\n",
        "df = pd.DataFrame(data)\n",
        "\n",
        "print(\"Original DataFrame:\")\n",
        "print(df)\n",
        "\n",
        "correlation_matrix = df.corr()\n",
        "\n",
        "print(\"\\nCorrelation Matrix:\")\n",
        "print(correlation_matrix)\n",
        "\n",
        "# Create the heatmap\n",
        "plt.figure(figsize=(8, 6)) # Adjust the figure size for better readability\n",
        "sns.heatmap(correlation_matrix, annot=True, cmap='coolwarm', fmt=\".2f\", center=0)\n",
        "plt.title(\"Correlation Matrix Heatmap\")\n",
        "plt.show()"
      ],
      "metadata": {
        "colab": {
          "base_uri": "https://localhost:8080/",
          "height": 509
        },
        "id": "S3IUTORlqBEk",
        "outputId": "62afb29a-b99b-4e82-9899-5d4eb48a27d9"
      },
      "execution_count": null,
      "outputs": [
        {
          "output_type": "stream",
          "name": "stdout",
          "text": [
            "Original DataFrame:\n",
            "   Feature_A  Feature_B  Feature_C  Feature_D\n",
            "0         10         25          5         50\n",
            "1         20         35          5         40\n",
            "2         30         45         25         30\n",
            "3         40         55         15         20\n",
            "4         50         65         35         10\n",
            "\n",
            "Correlation Matrix:\n",
            "           Feature_A  Feature_B  Feature_C  Feature_D\n",
            "Feature_A   1.000000   1.000000   0.848875  -1.000000\n",
            "Feature_B   1.000000   1.000000   0.848875  -1.000000\n",
            "Feature_C   0.848875   0.848875   1.000000  -0.848875\n",
            "Feature_D  -1.000000  -1.000000  -0.848875   1.000000\n"
          ]
        },
        {
          "output_type": "display_data",
          "data": {
            "text/plain": [
              "<Figure size 800x600 with 2 Axes>"
            ],
            "image/png": "[encoded data removed]"
          },
          "metadata": {}
        }
      ]
    },
    {
      "cell_type": "code",
      "source": [
        "#5.\n",
        "\n",
        "import plotly.express as px # Import Plotly Express\n",
        "import pandas as pd         # Import Pandas for data handling\n",
        "\n",
        "# Create a sample DataFrame\n",
        "data = {'Category': ['A', 'B', 'C', 'D', 'E'],\n",
        "        'Value': [23, 45, 56, 12, 39]}\n",
        "df = pd.DataFrame(data)\n",
        "\n",
        "print(\"Original DataFrame:\")\n",
        "print(df)\n",
        "\n",
        "# Create the bar plot using px.bar\n",
        "fig = px.bar(df, x='Category', y='Value', title='Sample Bar Chart')\n",
        "\n",
        "# Display the plot\n",
        "fig.show()"
      ],
      "metadata": {
        "colab": {
          "base_uri": "https://localhost:8080/",
          "height": 664
        },
        "id": "1JE-2yV9qXHz",
        "outputId": "de4c0947-d89d-4f3d-e3d3-90325570270b"
      },
      "execution_count": null,
      "outputs": [
        {
          "output_type": "stream",
          "name": "stdout",
          "text": [
            "Original DataFrame:\n",
            "  Category  Value\n",
            "0        A     23\n",
            "1        B     45\n",
            "2        C     56\n",
            "3        D     12\n",
            "4        E     39\n"
          ]
        },
        {
          "output_type": "display_data",
          "data": {
            "text/html": [
              "<html>\n",
              "<head><meta charset=\"utf-8\" /></head>\n",
              "<body>\n",
              "    <div>            <script src=\"https://cdnjs.cloudflare.com/ajax/libs/mathjax/2.7.5/MathJax.js?config=TeX-AMS-MML_SVG\"></script><script type=\"text/javascript\">if (window.MathJax && window.MathJax.Hub && window.MathJax.Hub.Config) {window.MathJax.Hub.Config({SVG: {font: \"STIX-Web\"}});}</script>                <script type=\"text/javascript\">window.PlotlyConfig = {MathJaxConfig: 'local'};</script>\n",
              "        <script charset=\"utf-8\" src=\"https://cdn.plot.ly/plotly-2.35.2.min.js\"></script>                <div id=\"203bdec8-fed4-4db1-ace7-8e5f6c06130e\" class=\"plotly-graph-div\" style=\"height:525px; width:100%;\"></div>            <script type=\"text/javascript\">                                    window.PLOTLYENV=window.PLOTLYENV || {};                                    if (document.getElementById(\"203bdec8-fed4-4db1-ace7-8e5f6c06130e\")) {                    Plotly.newPlot(                        \"203bdec8-fed4-4db1-ace7-8e5f6c06130e\",                        [{\"alignmentgroup\":\"True\",\"hovertemplate\":\"Category=%{x}\\u003cbr\\u003eValue=%{y}\\u003cextra\\u003e\\u003c\\u002fextra\\u003e\",\"legendgroup\":\"\",\"marker\":{\"color\":\"#636efa\",\"pattern\":{\"shape\":\"\"}},\"name\":\"\",\"offsetgroup\":\"\",\"orientation\":\"v\",\"showlegend\":false,\"textposition\":\"auto\",\"x\":[\"A\",\"B\",\"C\",\"D\",\"E\"],\"xaxis\":\"x\",\"y\":[23,45,56,12,39],\"yaxis\":\"y\",\"type\":\"bar\"}],                        {\"template\":{\"data\":{\"histogram2dcontour\":[{\"type\":\"histogram2dcontour\",\"colorbar\":{\"outlinewidth\":0,\"ticks\":\"\"},\"colorscale\":[[0.0,\"#0d0887\"],[0.1111111111111111,\"#46039f\"],[0.2222222222222222,\"#7201a8\"],[0.3333333333333333,\"#9c179e\"],[0.4444444444444444,\"#bd3786\"],[0.5555555555555556,\"#d8576b\"],[0.6666666666666666,\"#ed7953\"],[0.7777777777777778,\"#fb9f3a\"],[0.8888888888888888,\"#fdca26\"],[1.0,\"#f0f921\"]]}],\"choropleth\":[{\"type\":\"choropleth\",\"colorbar\":{\"outlinewidth\":0,\"ticks\":\"\"}}],\"histogram2d\":[{\"type\":\"histogram2d\",\"colorbar\":{\"outlinewidth\":0,\"ticks\":\"\"},\"colorscale\":[[0.0,\"#0d0887\"],[0.1111111111111111,\"#46039f\"],[0.2222222222222222,\"#7201a8\"],[0.3333333333333333,\"#9c179e\"],[0.4444444444444444,\"#bd3786\"],[0.5555555555555556,\"#d8576b\"],[0.6666666666666666,\"#ed7953\"],[0.7777777777777778,\"#fb9f3a\"],[0.8888888888888888,\"#fdca26\"],[1.0,\"#f0f921\"]]}],\"heatmap\":[{\"type\":\"heatmap\",\"colorbar\":{\"outlinewidth\":0,\"ticks\":\"\"},\"colorscale\":[[0.0,\"#0d0887\"],[0.1111111111111111,\"#46039f\"],[0.2222222222222222,\"#7201a8\"],[0.3333333333333333,\"#9c179e\"],[0.4444444444444444,\"#bd3786\"],[0.5555555555555556,\"#d8576b\"],[0.6666666666666666,\"#ed7953\"],[0.7777777777777778,\"#fb9f3a\"],[0.8888888888888888,\"#fdca26\"],[1.0,\"#f0f921\"]]}],\"heatmapgl\":[{\"type\":\"heatmapgl\",\"colorbar\":{\"outlinewidth\":0,\"ticks\":\"\"},\"colorscale\":[[0.0,\"#0d0887\"],[0.1111111111111111,\"#46039f\"],[0.2222222222222222,\"#7201a8\"],[0.3333333333333333,\"#9c179e\"],[0.4444444444444444,\"#bd3786\"],[0.5555555555555556,\"#d8576b\"],[0.6666666666666666,\"#ed7953\"],[0.7777777777777778,\"#fb9f3a\"],[0.8888888888888888,\"#fdca26\"],[1.0,\"#f0f921\"]]}],\"contourcarpet\":[{\"type\":\"contourcarpet\",\"colorbar\":{\"outlinewidth\":0,\"ticks\":\"\"}}],\"contour\":[{\"type\":\"contour\",\"colorbar\":{\"outlinewidth\":0,\"ticks\":\"\"},\"colorscale\":[[0.0,\"#0d0887\"],[0.1111111111111111,\"#46039f\"],[0.2222222222222222,\"#7201a8\"],[0.3333333333333333,\"#9c179e\"],[0.4444444444444444,\"#bd3786\"],[0.5555555555555556,\"#d8576b\"],[0.6666666666666666,\"#ed7953\"],[0.7777777777777778,\"#fb9f3a\"],[0.8888888888888888,\"#fdca26\"],[1.0,\"#f0f921\"]]}],\"surface\":[{\"type\":\"surface\",\"colorbar\":{\"outlinewidth\":0,\"ticks\":\"\"},\"colorscale\":[[0.0,\"#0d0887\"],[0.1111111111111111,\"#46039f\"],[0.2222222222222222,\"#7201a8\"],[0.3333333333333333,\"#9c179e\"],[0.4444444444444444,\"#bd3786\"],[0.5555555555555556,\"#d8576b\"],[0.6666666666666666,\"#ed7953\"],[0.7777777777777778,\"#fb9f3a\"],[0.8888888888888888,\"#fdca26\"],[1.0,\"#f0f921\"]]}],\"mesh3d\":[{\"type\":\"mesh3d\",\"colorbar\":{\"outlinewidth\":0,\"ticks\":\"\"}}],\"scatter\":[{\"fillpattern\":{\"fillmode\":\"overlay\",\"size\":10,\"solidity\":0.2},\"type\":\"scatter\"}],\"parcoords\":[{\"type\":\"parcoords\",\"line\":{\"colorbar\":{\"outlinewidth\":0,\"ticks\":\"\"}}}],\"scatterpolargl\":[{\"type\":\"scatterpolargl\",\"marker\":{\"colorbar\":{\"outlinewidth\":0,\"ticks\":\"\"}}}],\"bar\":[{\"error_x\":{\"color\":\"#2a3f5f\"},\"error_y\":{\"color\":\"#2a3f5f\"},\"marker\":{\"line\":{\"color\":\"#E5ECF6\",\"width\":0.5},\"pattern\":{\"fillmode\":\"overlay\",\"size\":10,\"solidity\":0.2}},\"type\":\"bar\"}],\"scattergeo\":[{\"type\":\"scattergeo\",\"marker\":{\"colorbar\":{\"outlinewidth\":0,\"ticks\":\"\"}}}],\"scatterpolar\":[{\"type\":\"scatterpolar\",\"marker\":{\"colorbar\":{\"outlinewidth\":0,\"ticks\":\"\"}}}],\"histogram\":[{\"marker\":{\"pattern\":{\"fillmode\":\"overlay\",\"size\":10,\"solidity\":0.2}},\"type\":\"histogram\"}],\"scattergl\":[{\"type\":\"scattergl\",\"marker\":{\"colorbar\":{\"outlinewidth\":0,\"ticks\":\"\"}}}],\"scatter3d\":[{\"type\":\"scatter3d\",\"line\":{\"colorbar\":{\"outlinewidth\":0,\"ticks\":\"\"}},\"marker\":{\"colorbar\":{\"outlinewidth\":0,\"ticks\":\"\"}}}],\"scattermapbox\":[{\"type\":\"scattermapbox\",\"marker\":{\"colorbar\":{\"outlinewidth\":0,\"ticks\":\"\"}}}],\"scatterternary\":[{\"type\":\"scatterternary\",\"marker\":{\"colorbar\":{\"outlinewidth\":0,\"ticks\":\"\"}}}],\"scattercarpet\":[{\"type\":\"scattercarpet\",\"marker\":{\"colorbar\":{\"outlinewidth\":0,\"ticks\":\"\"}}}],\"carpet\":[{\"aaxis\":{\"endlinecolor\":\"#2a3f5f\",\"gridcolor\":\"white\",\"linecolor\":\"white\",\"minorgridcolor\":\"white\",\"startlinecolor\":\"#2a3f5f\"},\"baxis\":{\"endlinecolor\":\"#2a3f5f\",\"gridcolor\":\"white\",\"linecolor\":\"white\",\"minorgridcolor\":\"white\",\"startlinecolor\":\"#2a3f5f\"},\"type\":\"carpet\"}],\"table\":[{\"cells\":{\"fill\":{\"color\":\"#EBF0F8\"},\"line\":{\"color\":\"white\"}},\"header\":{\"fill\":{\"color\":\"#C8D4E3\"},\"line\":{\"color\":\"white\"}},\"type\":\"table\"}],\"barpolar\":[{\"marker\":{\"line\":{\"color\":\"#E5ECF6\",\"width\":0.5},\"pattern\":{\"fillmode\":\"overlay\",\"size\":10,\"solidity\":0.2}},\"type\":\"barpolar\"}],\"pie\":[{\"automargin\":true,\"type\":\"pie\"}]},\"layout\":{\"autotypenumbers\":\"strict\",\"colorway\":[\"#636efa\",\"#EF553B\",\"#00cc96\",\"#ab63fa\",\"#FFA15A\",\"#19d3f3\",\"#FF6692\",\"#B6E880\",\"#FF97FF\",\"#FECB52\"],\"font\":{\"color\":\"#2a3f5f\"},\"hovermode\":\"closest\",\"hoverlabel\":{\"align\":\"left\"},\"paper_bgcolor\":\"white\",\"plot_bgcolor\":\"#E5ECF6\",\"polar\":{\"bgcolor\":\"#E5ECF6\",\"angularaxis\":{\"gridcolor\":\"white\",\"linecolor\":\"white\",\"ticks\":\"\"},\"radialaxis\":{\"gridcolor\":\"white\",\"linecolor\":\"white\",\"ticks\":\"\"}},\"ternary\":{\"bgcolor\":\"#E5ECF6\",\"aaxis\":{\"gridcolor\":\"white\",\"linecolor\":\"white\",\"ticks\":\"\"},\"baxis\":{\"gridcolor\":\"white\",\"linecolor\":\"white\",\"ticks\":\"\"},\"caxis\":{\"gridcolor\":\"white\",\"linecolor\":\"white\",\"ticks\":\"\"}},\"coloraxis\":{\"colorbar\":{\"outlinewidth\":0,\"ticks\":\"\"}},\"colorscale\":{\"sequential\":[[0.0,\"#0d0887\"],[0.1111111111111111,\"#46039f\"],[0.2222222222222222,\"#7201a8\"],[0.3333333333333333,\"#9c179e\"],[0.4444444444444444,\"#bd3786\"],[0.5555555555555556,\"#d8576b\"],[0.6666666666666666,\"#ed7953\"],[0.7777777777777778,\"#fb9f3a\"],[0.8888888888888888,\"#fdca26\"],[1.0,\"#f0f921\"]],\"sequentialminus\":[[0.0,\"#0d0887\"],[0.1111111111111111,\"#46039f\"],[0.2222222222222222,\"#7201a8\"],[0.3333333333333333,\"#9c179e\"],[0.4444444444444444,\"#bd3786\"],[0.5555555555555556,\"#d8576b\"],[0.6666666666666666,\"#ed7953\"],[0.7777777777777778,\"#fb9f3a\"],[0.8888888888888888,\"#fdca26\"],[1.0,\"#f0f921\"]],\"diverging\":[[0,\"#8e0152\"],[0.1,\"#c51b7d\"],[0.2,\"#de77ae\"],[0.3,\"#f1b6da\"],[0.4,\"#fde0ef\"],[0.5,\"#f7f7f7\"],[0.6,\"#e6f5d0\"],[0.7,\"#b8e186\"],[0.8,\"#7fbc41\"],[0.9,\"#4d9221\"],[1,\"#276419\"]]},\"xaxis\":{\"gridcolor\":\"white\",\"linecolor\":\"white\",\"ticks\":\"\",\"title\":{\"standoff\":15},\"zerolinecolor\":\"white\",\"automargin\":true,\"zerolinewidth\":2},\"yaxis\":{\"gridcolor\":\"white\",\"linecolor\":\"white\",\"ticks\":\"\",\"title\":{\"standoff\":15},\"zerolinecolor\":\"white\",\"automargin\":true,\"zerolinewidth\":2},\"scene\":{\"xaxis\":{\"backgroundcolor\":\"#E5ECF6\",\"gridcolor\":\"white\",\"linecolor\":\"white\",\"showbackground\":true,\"ticks\":\"\",\"zerolinecolor\":\"white\",\"gridwidth\":2},\"yaxis\":{\"backgroundcolor\":\"#E5ECF6\",\"gridcolor\":\"white\",\"linecolor\":\"white\",\"showbackground\":true,\"ticks\":\"\",\"zerolinecolor\":\"white\",\"gridwidth\":2},\"zaxis\":{\"backgroundcolor\":\"#E5ECF6\",\"gridcolor\":\"white\",\"linecolor\":\"white\",\"showbackground\":true,\"ticks\":\"\",\"zerolinecolor\":\"white\",\"gridwidth\":2}},\"shapedefaults\":{\"line\":{\"color\":\"#2a3f5f\"}},\"annotationdefaults\":{\"arrowcolor\":\"#2a3f5f\",\"arrowhead\":0,\"arrowwidth\":1},\"geo\":{\"bgcolor\":\"white\",\"landcolor\":\"#E5ECF6\",\"subunitcolor\":\"white\",\"showland\":true,\"showlakes\":true,\"lakecolor\":\"white\"},\"title\":{\"x\":0.05},\"mapbox\":{\"style\":\"light\"}}},\"xaxis\":{\"anchor\":\"y\",\"domain\":[0.0,1.0],\"title\":{\"text\":\"Category\"}},\"yaxis\":{\"anchor\":\"x\",\"domain\":[0.0,1.0],\"title\":{\"text\":\"Value\"}},\"legend\":{\"tracegroupgap\":0},\"title\":{\"text\":\"Sample Bar Chart\"},\"barmode\":\"relative\"},                        {\"responsive\": true}                    ).then(function(){\n",
              "                            \n",
              "var gd = document.getElementById('203bdec8-fed4-4db1-ace7-8e5f6c06130e');\n",
              "var x = new MutationObserver(function (mutations, observer) {{\n",
              "        var display = window.getComputedStyle(gd).display;\n",
              "        if (!display || display === 'none') {{\n",
              "            console.log([gd, 'removed!']);\n",
              "            Plotly.purge(gd);\n",
              "            observer.disconnect();\n",
              "        }}\n",
              "}});\n",
              "\n",
              "// Listen for the removal of the full notebook cells\n",
              "var notebookContainer = gd.closest('#notebook-container');\n",
              "if (notebookContainer) {{\n",
              "    x.observe(notebookContainer, {childList: true});\n",
              "}}\n",
              "\n",
              "// Listen for the clearing of the current output cell\n",
              "var outputEl = gd.closest('.output');\n",
              "if (outputEl) {{\n",
              "    x.observe(outputEl, {childList: true});\n",
              "}}\n",
              "\n",
              "                        })                };                            </script>        </div>\n",
              "</body>\n",
              "</html>"
            ]
          },
          "metadata": {}
        }
      ]
    },
    {
      "cell_type": "code",
      "source": [
        "#6.\n",
        "\n",
        "import pandas as pd\n",
        "\n",
        "# Create a sample DataFrame\n",
        "data = {'Name': ['Alice', 'Bob', 'Charlie', 'David'],\n",
        "        'Score': [85, 92, 78, 88]}\n",
        "df = pd.DataFrame(data)\n",
        "\n",
        "print(\"Original DataFrame:\")\n",
        "print(df)\n",
        "\n",
        "import numpy as np\n",
        "\n",
        "# Add a new 'Grade' column based on the 'Score'\n",
        "# Assign 'Pass' if score is 80 or higher, otherwise 'Fail'\n",
        "df['Grade'] = np.where(df['Score'] >= 80, 'Pass', 'Fail')\n",
        "\n",
        "print(\"\\nDataFrame with new 'Grade' column:\")\n",
        "print(df)"
      ],
      "metadata": {
        "colab": {
          "base_uri": "https://localhost:8080/"
        },
        "id": "s93Jo0LUqrQp",
        "outputId": "cae9c486-978d-4581-e7e3-f5baf3602ed4"
      },
      "execution_count": null,
      "outputs": [
        {
          "output_type": "stream",
          "name": "stdout",
          "text": [
            "Original DataFrame:\n",
            "      Name  Score\n",
            "0    Alice     85\n",
            "1      Bob     92\n",
            "2  Charlie     78\n",
            "3    David     88\n",
            "\n",
            "DataFrame with new 'Grade' column:\n",
            "      Name  Score Grade\n",
            "0    Alice     85  Pass\n",
            "1      Bob     92  Pass\n",
            "2  Charlie     78  Fail\n",
            "3    David     88  Pass\n"
          ]
        }
      ]
    },
    {
      "cell_type": "code",
      "source": [
        "#7.\n",
        "import numpy as np\n",
        "\n",
        "# Create two sample 2D NumPy arrays\n",
        "array1 = np.array([[1, 2, 3],\n",
        "                   [4, 5, 6]])\n",
        "\n",
        "array2 = np.array([[7, 8, 9],\n",
        "                   [10, 11, 12]])\n",
        "\n",
        "# Perform element-wise multiplication using the * operator\n",
        "result_array = array1 * array2\n",
        "\n",
        "print(\"Array 1:\\n\", array1)\n",
        "print(\"\\nArray 2:\\n\", array2)\n",
        "print(\"\\nResult of element-wise multiplication:\\n\", result_array)\n",
        "\n",
        "\n",
        "# Create two sample 1D NumPy arrays\n",
        "array1 = np.array([1, 2, 3])\n",
        "array2 = np.array([4, 5, 6])\n",
        "\n",
        "# Perform element-wise multiplication using np.multiply()\n",
        "result_array = np.multiply(array1, array2)\n",
        "\n",
        "print(\"Array 1:\", array1)\n",
        "print(\"Array 2:\", array2)\n",
        "print(\"Result of element-wise multiplication:\", result_array)"
      ],
      "metadata": {
        "colab": {
          "base_uri": "https://localhost:8080/"
        },
        "id": "488_Ix0arF8p",
        "outputId": "e580d79a-c020-444c-c8c9-a5cf3227d567"
      },
      "execution_count": null,
      "outputs": [
        {
          "output_type": "stream",
          "name": "stdout",
          "text": [
            "Array 1:\n",
            " [[1 2 3]\n",
            " [4 5 6]]\n",
            "\n",
            "Array 2:\n",
            " [[ 7  8  9]\n",
            " [10 11 12]]\n",
            "\n",
            "Result of element-wise multiplication:\n",
            " [[ 7 16 27]\n",
            " [40 55 72]]\n",
            "Array 1: [1 2 3]\n",
            "Array 2: [4 5 6]\n",
            "Result of element-wise multiplication: [ 4 10 18]\n"
          ]
        }
      ]
    },
    {
      "cell_type": "code",
      "source": [
        "#8.\n",
        "\n",
        "import matplotlib.pyplot as plt\n",
        "\n",
        "# Data for multiple lines\n",
        "months = ['Jan', 'Feb', 'Mar', 'Apr', 'May', 'Jun']\n",
        "sales_a = [100, 150, 130, 180, 200, 220]\n",
        "sales_b = [80, 120, 160, 170, 190, 210]\n",
        "\n",
        "# Create the plot\n",
        "plt.figure(figsize=(10, 6)) # Optional: set the figure size for better display\n",
        "plt.plot(months, sales_a, label='Product A', marker='o')\n",
        "plt.plot(months, sales_b, label='Product B', marker='s')\n",
        "\n",
        "# Add titles and labels\n",
        "plt.xlabel(\"Month\")\n",
        "plt.ylabel(\"Sales\")\n",
        "plt.title(\"Monthly Sales of Product A vs. Product B\")\n",
        "\n",
        "# Add a legend\n",
        "plt.legend()\n",
        "\n",
        "# Show the plot\n",
        "plt.grid(True) # Optional: add a grid for readability\n",
        "plt.show()"
      ],
      "metadata": {
        "colab": {
          "base_uri": "https://localhost:8080/",
          "height": 197
        },
        "id": "3EoZZUUPrvXs",
        "outputId": "8b44a819-29b0-4eac-9e7f-3e12bd5eda86"
      },
      "execution_count": null,
      "outputs": [
        {
          "output_type": "display_data",
          "data": {
            "text/plain": [
              "<Figure size 1000x600 with 1 Axes>"
            ],
            "image/png": "[encoded data removed]"
          },
          "metadata": {}
        }
      ]
    },
    {
      "cell_type": "code",
      "source": [
        "#9.\n",
        "import pandas as pd\n",
        "\n",
        "# Create a sample DataFrame\n",
        "data = {\n",
        "    'product': ['A', 'B', 'C', 'D', 'E'],\n",
        "    'sales': [120, 250, 80, 310, 190]\n",
        "}\n",
        "df = pd.DataFrame(data)\n",
        "\n",
        "print(\"Original DataFrame:\")\n",
        "print(df)\n",
        "\n",
        "# Define the threshold\n",
        "threshold = 200\n",
        "\n",
        "# Create a boolean Series (mask) where 'sales' is greater than the threshold\n",
        "sales_above_threshold = df['sales'] > threshold\n",
        "\n",
        "# Filter the DataFrame using the boolean mask\n",
        "filtered_df = df[sales_above_threshold]\n",
        "\n",
        "print(f\"\\nFiltered DataFrame (sales > {threshold}):\")\n",
        "print(filtered_df)"
      ],
      "metadata": {
        "colab": {
          "base_uri": "https://localhost:8080/"
        },
        "id": "a8LSGb7MsFvl",
        "outputId": "fd154bf3-5458-43cd-c570-adb832fd116a"
      },
      "execution_count": null,
      "outputs": [
        {
          "output_type": "stream",
          "name": "stdout",
          "text": [
            "Original DataFrame:\n",
            "  product  sales\n",
            "0       A    120\n",
            "1       B    250\n",
            "2       C     80\n",
            "3       D    310\n",
            "4       E    190\n",
            "\n",
            "Filtered DataFrame (sales > 200):\n",
            "  product  sales\n",
            "1       B    250\n",
            "3       D    310\n"
          ]
        }
      ]
    },
    {
      "cell_type": "code",
      "source": [
        "#10.\n",
        "import seaborn as sns\n",
        "import matplotlib.pyplot as plt\n",
        "import pandas as pd\n",
        "import numpy as np\n",
        "\n",
        "# Create a sample DataFrame with random data\n",
        "np.random.seed(0) # for reproducibility\n",
        "data = np.random.randn(1000)\n",
        "df = pd.DataFrame(data, columns=['value'])\n",
        "\n",
        "# Create the histogram\n",
        "plt.figure(figsize=(10, 6)) # Set the figure size\n",
        "sns.histplot(data=df, x='value')\n",
        "\n",
        "# Add a title and labels for clarity\n",
        "plt.title('Distribution of Sample Data')\n",
        "plt.xlabel('Value')\n",
        "plt.ylabel('Frequency')\n",
        "\n",
        "# Display the plot\n",
        "plt.show()\n",
        "\n",
        "# Customize the histogram with KDE, more bins, and a different color\n",
        "plt.figure(figsize=(10, 6))\n",
        "sns.histplot(data=df, x='value', bins=30, kde=True, color='skyblue')\n",
        "\n",
        "plt.title('Distribution of Sample Data with KDE')\n",
        "plt.xlabel('Value')\n",
        "plt.ylabel('Density')\n",
        "\n",
        "plt.show()"
      ],
      "metadata": {
        "colab": {
          "base_uri": "https://localhost:8080/",
          "height": 379
        },
        "id": "WCk-OPz0sb5J",
        "outputId": "e1a37a9b-1451-4a45-ed73-604dd51ddb74"
      },
      "execution_count": null,
      "outputs": [
        {
          "output_type": "display_data",
          "data": {
            "text/plain": [
              "<Figure size 1000x600 with 1 Axes>"
            ],
            "image/png": "[encoded data removed]"
          },
          "metadata": {}
        },
        {
          "output_type": "display_data",
          "data": {
            "text/plain": [
              "<Figure size 1000x600 with 1 Axes>"
            ],
            "image/png": "[encoded data removed]"
          },
          "metadata": {}
        }
      ]
    },
    {
      "cell_type": "code",
      "source": [
        "#11.\n",
        "\n",
        "import numpy as np\n",
        "\n",
        "# Define two matrices\n",
        "matrix_a = np.array([\n",
        "    [1, 2, 3],\n",
        "    [4, 5, 6]\n",
        "])\n",
        "\n",
        "matrix_b = np.array([\n",
        "    [7, 8],\n",
        "    [9, 10],\n",
        "    [11, 12]\n",
        "])\n",
        "\n",
        "# Perform matrix multiplication using the @ operator\n",
        "result_at = matrix_a @ matrix_b\n",
        "\n",
        "print(\"Matrix A:\\n\", matrix_a)\n",
        "print(\"\\nMatrix B:\\n\", matrix_b)\n",
        "print(\"\\nResult using @ operator:\\n\", result_at)\n",
        "\n",
        "import numpy as np\n",
        "\n",
        "# Define two matrices\n",
        "matrix_a = np.array([\n",
        "    [1, 2],\n",
        "    [3, 4]\n",
        "])\n",
        "\n",
        "matrix_b = np.array([\n",
        "    [5, 6],\n",
        "    [7, 8]\n",
        "])\n",
        "\n",
        "# Perform matrix multiplication using np.dot()\n",
        "result_dot = np.dot(matrix_a, matrix_b)\n",
        "\n",
        "print(\"Matrix A:\\n\", matrix_a)\n",
        "print(\"\\nMatrix B:\\n\", matrix_b)\n",
        "print(\"\\nResult using np.dot():\\n\", result_dot)\n",
        "\n",
        "import numpy as np\n",
        "\n",
        "# Define two matrices\n",
        "matrix_a = np.array([\n",
        "    [1, 2, 3],\n",
        "    [4, 5, 6]\n",
        "])\n",
        "\n",
        "matrix_b = np.array([\n",
        "    [7, 8],\n",
        "    [9, 10],\n",
        "    [11, 12]\n",
        "])\n",
        "\n",
        "# Perform matrix multiplication using np.matmul()\n",
        "result_matmul = np.matmul(matrix_a, matrix_b)\n",
        "\n",
        "print(\"Matrix A:\\n\", matrix_a)\n",
        "print(\"\\nMatrix B:\\n\", matrix_b)\n",
        "print(\"\\nResult using np.matmul():\\n\", result_matmul)"
      ],
      "metadata": {
        "colab": {
          "base_uri": "https://localhost:8080/"
        },
        "id": "2BcVAiCVss03",
        "outputId": "e69b4179-d561-4aa1-ef0e-c4e8e892ef91"
      },
      "execution_count": null,
      "outputs": [
        {
          "output_type": "stream",
          "name": "stdout",
          "text": [
            "Matrix A:\n",
            " [[1 2 3]\n",
            " [4 5 6]]\n",
            "\n",
            "Matrix B:\n",
            " [[ 7  8]\n",
            " [ 9 10]\n",
            " [11 12]]\n",
            "\n",
            "Result using @ operator:\n",
            " [[ 58  64]\n",
            " [139 154]]\n",
            "Matrix A:\n",
            " [[1 2]\n",
            " [3 4]]\n",
            "\n",
            "Matrix B:\n",
            " [[5 6]\n",
            " [7 8]]\n",
            "\n",
            "Result using np.dot():\n",
            " [[19 22]\n",
            " [43 50]]\n",
            "Matrix A:\n",
            " [[1 2 3]\n",
            " [4 5 6]]\n",
            "\n",
            "Matrix B:\n",
            " [[ 7  8]\n",
            " [ 9 10]\n",
            " [11 12]]\n",
            "\n",
            "Result using np.matmul():\n",
            " [[ 58  64]\n",
            " [139 154]]\n"
          ]
        }
      ]
    },
    {
      "cell_type": "code",
      "source": [
        "#12.\n",
        "\n",
        "import pandas as pd\n",
        "\n",
        "# Load a CSV file from a URL into a DataFrame\n",
        "url = 'https://raw.githubusercontent.com/mwaskom/seaborn-data/master/diamonds.csv'\n",
        "df = pd.read_csv(url)\n",
        "\n",
        "# Print a header for clarity\n",
        "print(\"First 5 rows of the DataFrame:\")\n",
        "\n",
        "# Display the first 5 rows\n",
        "print(df.head())"
      ],
      "metadata": {
        "colab": {
          "base_uri": "https://localhost:8080/"
        },
        "id": "JqGBCtphtQnw",
        "outputId": "84e5df20-d415-4655-ec14-927a562e504c"
      },
      "execution_count": null,
      "outputs": [
        {
          "output_type": "stream",
          "name": "stdout",
          "text": [
            "First 5 rows of the DataFrame:\n",
            "   carat      cut color clarity  depth  table  price     x     y     z\n",
            "0   0.23    Ideal     E     SI2   61.5   55.0    326  3.95  3.98  2.43\n",
            "1   0.21  Premium     E     SI1   59.8   61.0    326  3.89  3.84  2.31\n",
            "2   0.23     Good     E     VS1   56.9   65.0    327  4.05  4.07  2.31\n",
            "3   0.29  Premium     I     VS2   62.4   58.0    334  4.20  4.23  2.63\n",
            "4   0.31     Good     J     SI2   63.3   58.0    335  4.34  4.35  2.75\n"
          ]
        }
      ]
    },
    {
      "cell_type": "code",
      "source": [
        "#13.\n",
        "\n",
        "import plotly.express as px\n",
        "import pandas as pd\n",
        "import numpy as np\n",
        "\n",
        "# Create a sample DataFrame\n",
        "np.random.seed(42) # for reproducibility\n",
        "data = {\n",
        "    'x_data': np.random.rand(50) * 10,\n",
        "    'y_data': np.random.rand(50) * 10,\n",
        "    'z_data': np.random.rand(50) * 10,\n",
        "    'category': np.random.choice(['Group A', 'Group B', 'Group C'], 50),\n",
        "    'size_data': np.random.rand(50) * 20 + 5 # For varying marker sizes\n",
        "}\n",
        "df = pd.DataFrame(data)\n",
        "\n",
        "print(\"Sample DataFrame:\")\n",
        "print(df.head())\n",
        "\n",
        "# Create the 3D scatter plot\n",
        "fig = px.scatter_3d(\n",
        "    df,\n",
        "    x='x_data',\n",
        "    y='y_data',\n",
        "    z='z_data',\n",
        "    color='category',\n",
        "    size='size_data',\n",
        "    hover_data=['category'],\n",
        "    title='3D Scatter Plot of Sample Data',\n",
        "    labels={\n",
        "        'x_data': 'X-axis Label',\n",
        "        'y_data': 'Y-axis Label',\n",
        "        'z_data': 'Z-axis Label',\n",
        "        'category': 'Data Category'\n",
        "    }\n",
        ")\n",
        "\n",
        "# Customize the layout (optional)\n",
        "fig.update_layout(\n",
        "    scene_aspectmode='cube' # Ensures axes have equal scaling\n",
        ")\n",
        "\n",
        "# Display the plot\n",
        "fig.show()"
      ],
      "metadata": {
        "colab": {
          "base_uri": "https://localhost:8080/",
          "height": 684
        },
        "id": "lClfz8Dstceb",
        "outputId": "8e1e63bf-f590-4dfe-e7df-8535b1bcfd64"
      },
      "execution_count": null,
      "outputs": [
        {
          "output_type": "stream",
          "name": "stdout",
          "text": [
            "Sample DataFrame:\n",
            "     x_data    y_data    z_data category  size_data\n",
            "0  3.745401  9.695846  0.314292  Group A  24.643367\n",
            "1  9.507143  7.751328  6.364104  Group A  15.332718\n",
            "2  7.319939  9.394989  3.143560  Group C  10.216583\n",
            "3  5.986585  8.948274  5.085707  Group B  24.925074\n",
            "4  1.560186  5.979000  9.075665  Group B  24.308387\n"
          ]
        },
        {
          "output_type": "display_data",
          "data": {
            "text/html": [
              "<html>\n",
              "<head><meta charset=\"utf-8\" /></head>\n",
              "<body>\n",
              "    <div>            <script src=\"https://cdnjs.cloudflare.com/ajax/libs/mathjax/2.7.5/MathJax.js?config=TeX-AMS-MML_SVG\"></script><script type=\"text/javascript\">if (window.MathJax && window.MathJax.Hub && window.MathJax.Hub.Config) {window.MathJax.Hub.Config({SVG: {font: \"STIX-Web\"}});}</script>                <script type=\"text/javascript\">window.PlotlyConfig = {MathJaxConfig: 'local'};</script>\n",
              "        <script charset=\"utf-8\" src=\"https://cdn.plot.ly/plotly-2.35.2.min.js\"></script>                <div id=\"b99ab5fe-0443-4a6d-a1d2-dda9e924e016\" class=\"plotly-graph-div\" style=\"height:525px; width:100%;\"></div>            <script type=\"text/javascript\">                                    window.PLOTLYENV=window.PLOTLYENV || {};                                    if (document.getElementById(\"b99ab5fe-0443-4a6d-a1d2-dda9e924e016\")) {                    Plotly.newPlot(                        \"b99ab5fe-0443-4a6d-a1d2-dda9e924e016\",                        [{\"customdata\":[[\"Group A\"],[\"Group A\"],[\"Group A\"],[\"Group A\"],[\"Group A\"],[\"Group A\"],[\"Group A\"],[\"Group A\"],[\"Group A\"],[\"Group A\"],[\"Group A\"],[\"Group A\"],[\"Group A\"]],\"hovertemplate\":\"Data Category=%{customdata[0]}\\u003cbr\\u003eX-axis Label=%{x}\\u003cbr\\u003eY-axis Label=%{y}\\u003cbr\\u003eZ-axis Label=%{z}\\u003cbr\\u003esize_data=%{marker.size}\\u003cextra\\u003e\\u003c\\u002fextra\\u003e\",\"legendgroup\":\"Group A\",\"marker\":{\"color\":\"#636efa\",\"size\":[24.64336686658871,15.332717825420286,16.165869072141952,13.090162542443801,23.71269988441895,24.473276735106346,10.678419494749313,13.968482859724947,11.161215837047784,15.850804611097987,10.009236372111683,24.57785716550018,14.734843059189103],\"sizemode\":\"area\",\"sizeref\":0.06231268498789621,\"symbol\":\"circle\"},\"mode\":\"markers\",\"name\":\"Group A\",\"scene\":\"scene\",\"showlegend\":true,\"x\":[3.745401188473625,9.50714306409916,1.5599452033620265,8.324426408004218,1.8340450985343382,1.3949386065204183,2.9214464853521815,7.851759613930136,9.656320330745594,8.08397348116461,6.842330265121569,1.2203823484477883,4.951769101112702],\"y\":[9.695846277645586,7.7513282336111455,9.218742350231167,8.287375091519294,5.426960831582485,1.987156815341724,0.05522117123602399,7.2900716804098735,3.109823217156622,3.2518332202674705,8.872127425763265,1.195942459383017,7.13244787222995],\"z\":[0.3142918568673425,6.364104112637804,2.4929222914887497,9.29697652342573,8.714605901877178,8.960912999234932,3.1800347497186388,4.271077886262563,9.429097039125192,3.2320293202075523,3.63629602379294,9.624472949421111,2.5178229582536416],\"type\":\"scatter3d\"},{\"customdata\":[[\"Group C\"],[\"Group C\"],[\"Group C\"],[\"Group C\"],[\"Group C\"],[\"Group C\"],[\"Group C\"],[\"Group C\"],[\"Group C\"],[\"Group C\"],[\"Group C\"],[\"Group C\"],[\"Group C\"],[\"Group C\"],[\"Group C\"],[\"Group C\"],[\"Group C\"],[\"Group C\"],[\"Group C\"],[\"Group C\"],[\"Group C\"],[\"Group C\"]],\"hovertemplate\":\"Data Category=%{customdata[0]}\\u003cbr\\u003eX-axis Label=%{x}\\u003cbr\\u003eY-axis Label=%{y}\\u003cbr\\u003eZ-axis Label=%{z}\\u003cbr\\u003esize_data=%{marker.size}\\u003cextra\\u003e\\u003c\\u002fextra\\u003e\",\"legendgroup\":\"Group C\",\"marker\":{\"color\":\"#EF553B\",\"size\":[10.21658349660818,10.577427051843637,19.007156599455428,21.933222844766117,22.126485837561848,22.755401975219197,12.445655331234862,23.80266884915557,11.107277206887868,24.889149252216413,8.518505053546907,5.361507272310417,8.576454184426577,12.329375691657198,19.883410461131245,19.418798485042586,15.1762815367752,16.797416951210877,13.687887310208573,12.001568153893514,22.28335130143806,9.603705364831105],\"sizemode\":\"area\",\"sizeref\":0.06231268498789621,\"symbol\":\"circle\"},\"mode\":\"markers\",\"name\":\"Group C\",\"scene\":\"scene\",\"showlegend\":true,\"x\":[7.319939418114051,6.011150117432088,7.080725777960454,0.20584494295802447,9.699098521619943,2.1233911067827616,2.9122914019804194,6.118528947223795,3.663618432936917,1.9967378215835974,5.142344384136116,5.924145688620425,6.075448519014383,1.7052412368729153,0.6505159298527952,9.488855372533333,3.0461376917337066,4.4015249373960135,9.093204020787821,2.587799816000169,5.200680211778108,5.4671027934327965],\"y\":[9.394989415641891,0.45227288910538066,3.2533033076326436,3.8867728968948203,2.713490317738959,3.567533266935893,9.868869366005173,7.722447692966574,8.154614284548341,7.712703466859457,0.7404465173409036,3.5846572854427263,8.631034258755935,6.232981268275579,3.308980248526492,0.6355835028602363,7.29606178338064,4.722149251619493,5.612771975694963,7.70967179954561,4.275410183585496,0.2541912674409519],\"z\":[3.143559810763267,2.2879816549162246,0.7697990982879299,2.8975145291376805,1.6122128725400442,8.08120379564417,5.393422419156507,8.074401551640625,1.1005192452767676,8.18014765922493,8.607305832563434,0.06952130531190703,4.17411003148779,2.2210781047073027,1.198653673336828,3.3761517140362796,5.187906217433661,9.717820827209607,3.0087830981676964,2.848404943774676,5.026790232288615,0.5147875124998935],\"type\":\"scatter3d\"},{\"customdata\":[[\"Group B\"],[\"Group B\"],[\"Group B\"],[\"Group B\"],[\"Group B\"],[\"Group B\"],[\"Group B\"],[\"Group B\"],[\"Group B\"],[\"Group B\"],[\"Group B\"],[\"Group B\"],[\"Group B\"],[\"Group B\"],[\"Group B\"]],\"hovertemplate\":\"Data Category=%{customdata[0]}\\u003cbr\\u003eX-axis Label=%{x}\\u003cbr\\u003eY-axis Label=%{y}\\u003cbr\\u003eZ-axis Label=%{z}\\u003cbr\\u003esize_data=%{marker.size}\\u003cextra\\u003e\\u003c\\u002fextra\\u003e\",\"legendgroup\":\"Group B\",\"marker\":{\"color\":\"#00cc96\",\"size\":[24.925073995158485,24.308387025775872,22.652726863786793,8.774142166827588,22.018568975350256,20.706813022278872,18.379765094284572,16.613732428729094,14.712275071724532,14.877874303668692,17.726652363717907,23.12197575437108,17.902067240611295,18.378481193261994,14.983867597695046],\"sizemode\":\"area\",\"sizeref\":0.06231268498789621,\"symbol\":\"circle\"},\"mode\":\"markers\",\"name\":\"Group B\",\"scene\":\"scene\",\"showlegend\":true,\"x\":[5.986584841970366,1.5601864044243652,0.5808361216819946,8.661761457749352,1.8182496720710062,3.0424224295953772,5.247564316322379,4.319450186421157,4.56069984217036,0.46450412719997725,0.9767211400638387,0.34388521115218396,6.62522284353982,3.1171107608941098,1.8485445552552704],\"y\":[8.948273504276488,5.978999788110851,0.884925020519195,1.959828624191452,2.8093450968738076,1.4092422497476265,8.021969807540398,0.7455064367977082,7.068573438476172,1.1586905952512971,6.3755747135521315,7.607850486168974,4.937955963643907,5.227328293819941,1.0789142699330445],\"z\":[5.085706911647028,9.07566473926093,4.103829230356297,7.555511385430487,6.334037565104235,8.036720768991145,1.8657005888603584,8.925589984899778,2.279351625419417,5.107473025775658,7.030189588951778,4.972485058923855,0.36886947354532795,6.095643339798968,2.7864646423661146],\"type\":\"scatter3d\"}],                        {\"template\":{\"data\":{\"histogram2dcontour\":[{\"type\":\"histogram2dcontour\",\"colorbar\":{\"outlinewidth\":0,\"ticks\":\"\"},\"colorscale\":[[0.0,\"#0d0887\"],[0.1111111111111111,\"#46039f\"],[0.2222222222222222,\"#7201a8\"],[0.3333333333333333,\"#9c179e\"],[0.4444444444444444,\"#bd3786\"],[0.5555555555555556,\"#d8576b\"],[0.6666666666666666,\"#ed7953\"],[0.7777777777777778,\"#fb9f3a\"],[0.8888888888888888,\"#fdca26\"],[1.0,\"#f0f921\"]]}],\"choropleth\":[{\"type\":\"choropleth\",\"colorbar\":{\"outlinewidth\":0,\"ticks\":\"\"}}],\"histogram2d\":[{\"type\":\"histogram2d\",\"colorbar\":{\"outlinewidth\":0,\"ticks\":\"\"},\"colorscale\":[[0.0,\"#0d0887\"],[0.1111111111111111,\"#46039f\"],[0.2222222222222222,\"#7201a8\"],[0.3333333333333333,\"#9c179e\"],[0.4444444444444444,\"#bd3786\"],[0.5555555555555556,\"#d8576b\"],[0.6666666666666666,\"#ed7953\"],[0.7777777777777778,\"#fb9f3a\"],[0.8888888888888888,\"#fdca26\"],[1.0,\"#f0f921\"]]}],\"heatmap\":[{\"type\":\"heatmap\",\"colorbar\":{\"outlinewidth\":0,\"ticks\":\"\"},\"colorscale\":[[0.0,\"#0d0887\"],[0.1111111111111111,\"#46039f\"],[0.2222222222222222,\"#7201a8\"],[0.3333333333333333,\"#9c179e\"],[0.4444444444444444,\"#bd3786\"],[0.5555555555555556,\"#d8576b\"],[0.6666666666666666,\"#ed7953\"],[0.7777777777777778,\"#fb9f3a\"],[0.8888888888888888,\"#fdca26\"],[1.0,\"#f0f921\"]]}],\"heatmapgl\":[{\"type\":\"heatmapgl\",\"colorbar\":{\"outlinewidth\":0,\"ticks\":\"\"},\"colorscale\":[[0.0,\"#0d0887\"],[0.1111111111111111,\"#46039f\"],[0.2222222222222222,\"#7201a8\"],[0.3333333333333333,\"#9c179e\"],[0.4444444444444444,\"#bd3786\"],[0.5555555555555556,\"#d8576b\"],[0.6666666666666666,\"#ed7953\"],[0.7777777777777778,\"#fb9f3a\"],[0.8888888888888888,\"#fdca26\"],[1.0,\"#f0f921\"]]}],\"contourcarpet\":[{\"type\":\"contourcarpet\",\"colorbar\":{\"outlinewidth\":0,\"ticks\":\"\"}}],\"contour\":[{\"type\":\"contour\",\"colorbar\":{\"outlinewidth\":0,\"ticks\":\"\"},\"colorscale\":[[0.0,\"#0d0887\"],[0.1111111111111111,\"#46039f\"],[0.2222222222222222,\"#7201a8\"],[0.3333333333333333,\"#9c179e\"],[0.4444444444444444,\"#bd3786\"],[0.5555555555555556,\"#d8576b\"],[0.6666666666666666,\"#ed7953\"],[0.7777777777777778,\"#fb9f3a\"],[0.8888888888888888,\"#fdca26\"],[1.0,\"#f0f921\"]]}],\"surface\":[{\"type\":\"surface\",\"colorbar\":{\"outlinewidth\":0,\"ticks\":\"\"},\"colorscale\":[[0.0,\"#0d0887\"],[0.1111111111111111,\"#46039f\"],[0.2222222222222222,\"#7201a8\"],[0.3333333333333333,\"#9c179e\"],[0.4444444444444444,\"#bd3786\"],[0.5555555555555556,\"#d8576b\"],[0.6666666666666666,\"#ed7953\"],[0.7777777777777778,\"#fb9f3a\"],[0.8888888888888888,\"#fdca26\"],[1.0,\"#f0f921\"]]}],\"mesh3d\":[{\"type\":\"mesh3d\",\"colorbar\":{\"outlinewidth\":0,\"ticks\":\"\"}}],\"scatter\":[{\"fillpattern\":{\"fillmode\":\"overlay\",\"size\":10,\"solidity\":0.2},\"type\":\"scatter\"}],\"parcoords\":[{\"type\":\"parcoords\",\"line\":{\"colorbar\":{\"outlinewidth\":0,\"ticks\":\"\"}}}],\"scatterpolargl\":[{\"type\":\"scatterpolargl\",\"marker\":{\"colorbar\":{\"outlinewidth\":0,\"ticks\":\"\"}}}],\"bar\":[{\"error_x\":{\"color\":\"#2a3f5f\"},\"error_y\":{\"color\":\"#2a3f5f\"},\"marker\":{\"line\":{\"color\":\"#E5ECF6\",\"width\":0.5},\"pattern\":{\"fillmode\":\"overlay\",\"size\":10,\"solidity\":0.2}},\"type\":\"bar\"}],\"scattergeo\":[{\"type\":\"scattergeo\",\"marker\":{\"colorbar\":{\"outlinewidth\":0,\"ticks\":\"\"}}}],\"scatterpolar\":[{\"type\":\"scatterpolar\",\"marker\":{\"colorbar\":{\"outlinewidth\":0,\"ticks\":\"\"}}}],\"histogram\":[{\"marker\":{\"pattern\":{\"fillmode\":\"overlay\",\"size\":10,\"solidity\":0.2}},\"type\":\"histogram\"}],\"scattergl\":[{\"type\":\"scattergl\",\"marker\":{\"colorbar\":{\"outlinewidth\":0,\"ticks\":\"\"}}}],\"scatter3d\":[{\"type\":\"scatter3d\",\"line\":{\"colorbar\":{\"outlinewidth\":0,\"ticks\":\"\"}},\"marker\":{\"colorbar\":{\"outlinewidth\":0,\"ticks\":\"\"}}}],\"scattermapbox\":[{\"type\":\"scattermapbox\",\"marker\":{\"colorbar\":{\"outlinewidth\":0,\"ticks\":\"\"}}}],\"scatterternary\":[{\"type\":\"scatterternary\",\"marker\":{\"colorbar\":{\"outlinewidth\":0,\"ticks\":\"\"}}}],\"scattercarpet\":[{\"type\":\"scattercarpet\",\"marker\":{\"colorbar\":{\"outlinewidth\":0,\"ticks\":\"\"}}}],\"carpet\":[{\"aaxis\":{\"endlinecolor\":\"#2a3f5f\",\"gridcolor\":\"white\",\"linecolor\":\"white\",\"minorgridcolor\":\"white\",\"startlinecolor\":\"#2a3f5f\"},\"baxis\":{\"endlinecolor\":\"#2a3f5f\",\"gridcolor\":\"white\",\"linecolor\":\"white\",\"minorgridcolor\":\"white\",\"startlinecolor\":\"#2a3f5f\"},\"type\":\"carpet\"}],\"table\":[{\"cells\":{\"fill\":{\"color\":\"#EBF0F8\"},\"line\":{\"color\":\"white\"}},\"header\":{\"fill\":{\"color\":\"#C8D4E3\"},\"line\":{\"color\":\"white\"}},\"type\":\"table\"}],\"barpolar\":[{\"marker\":{\"line\":{\"color\":\"#E5ECF6\",\"width\":0.5},\"pattern\":{\"fillmode\":\"overlay\",\"size\":10,\"solidity\":0.2}},\"type\":\"barpolar\"}],\"pie\":[{\"automargin\":true,\"type\":\"pie\"}]},\"layout\":{\"autotypenumbers\":\"strict\",\"colorway\":[\"#636efa\",\"#EF553B\",\"#00cc96\",\"#ab63fa\",\"#FFA15A\",\"#19d3f3\",\"#FF6692\",\"#B6E880\",\"#FF97FF\",\"#FECB52\"],\"font\":{\"color\":\"#2a3f5f\"},\"hovermode\":\"closest\",\"hoverlabel\":{\"align\":\"left\"},\"paper_bgcolor\":\"white\",\"plot_bgcolor\":\"#E5ECF6\",\"polar\":{\"bgcolor\":\"#E5ECF6\",\"angularaxis\":{\"gridcolor\":\"white\",\"linecolor\":\"white\",\"ticks\":\"\"},\"radialaxis\":{\"gridcolor\":\"white\",\"linecolor\":\"white\",\"ticks\":\"\"}},\"ternary\":{\"bgcolor\":\"#E5ECF6\",\"aaxis\":{\"gridcolor\":\"white\",\"linecolor\":\"white\",\"ticks\":\"\"},\"baxis\":{\"gridcolor\":\"white\",\"linecolor\":\"white\",\"ticks\":\"\"},\"caxis\":{\"gridcolor\":\"white\",\"linecolor\":\"white\",\"ticks\":\"\"}},\"coloraxis\":{\"colorbar\":{\"outlinewidth\":0,\"ticks\":\"\"}},\"colorscale\":{\"sequential\":[[0.0,\"#0d0887\"],[0.1111111111111111,\"#46039f\"],[0.2222222222222222,\"#7201a8\"],[0.3333333333333333,\"#9c179e\"],[0.4444444444444444,\"#bd3786\"],[0.5555555555555556,\"#d8576b\"],[0.6666666666666666,\"#ed7953\"],[0.7777777777777778,\"#fb9f3a\"],[0.8888888888888888,\"#fdca26\"],[1.0,\"#f0f921\"]],\"sequentialminus\":[[0.0,\"#0d0887\"],[0.1111111111111111,\"#46039f\"],[0.2222222222222222,\"#7201a8\"],[0.3333333333333333,\"#9c179e\"],[0.4444444444444444,\"#bd3786\"],[0.5555555555555556,\"#d8576b\"],[0.6666666666666666,\"#ed7953\"],[0.7777777777777778,\"#fb9f3a\"],[0.8888888888888888,\"#fdca26\"],[1.0,\"#f0f921\"]],\"diverging\":[[0,\"#8e0152\"],[0.1,\"#c51b7d\"],[0.2,\"#de77ae\"],[0.3,\"#f1b6da\"],[0.4,\"#fde0ef\"],[0.5,\"#f7f7f7\"],[0.6,\"#e6f5d0\"],[0.7,\"#b8e186\"],[0.8,\"#7fbc41\"],[0.9,\"#4d9221\"],[1,\"#276419\"]]},\"xaxis\":{\"gridcolor\":\"white\",\"linecolor\":\"white\",\"ticks\":\"\",\"title\":{\"standoff\":15},\"zerolinecolor\":\"white\",\"automargin\":true,\"zerolinewidth\":2},\"yaxis\":{\"gridcolor\":\"white\",\"linecolor\":\"white\",\"ticks\":\"\",\"title\":{\"standoff\":15},\"zerolinecolor\":\"white\",\"automargin\":true,\"zerolinewidth\":2},\"scene\":{\"xaxis\":{\"backgroundcolor\":\"#E5ECF6\",\"gridcolor\":\"white\",\"linecolor\":\"white\",\"showbackground\":true,\"ticks\":\"\",\"zerolinecolor\":\"white\",\"gridwidth\":2},\"yaxis\":{\"backgroundcolor\":\"#E5ECF6\",\"gridcolor\":\"white\",\"linecolor\":\"white\",\"showbackground\":true,\"ticks\":\"\",\"zerolinecolor\":\"white\",\"gridwidth\":2},\"zaxis\":{\"backgroundcolor\":\"#E5ECF6\",\"gridcolor\":\"white\",\"linecolor\":\"white\",\"showbackground\":true,\"ticks\":\"\",\"zerolinecolor\":\"white\",\"gridwidth\":2}},\"shapedefaults\":{\"line\":{\"color\":\"#2a3f5f\"}},\"annotationdefaults\":{\"arrowcolor\":\"#2a3f5f\",\"arrowhead\":0,\"arrowwidth\":1},\"geo\":{\"bgcolor\":\"white\",\"landcolor\":\"#E5ECF6\",\"subunitcolor\":\"white\",\"showland\":true,\"showlakes\":true,\"lakecolor\":\"white\"},\"title\":{\"x\":0.05},\"mapbox\":{\"style\":\"light\"}}},\"scene\":{\"domain\":{\"x\":[0.0,1.0],\"y\":[0.0,1.0]},\"xaxis\":{\"title\":{\"text\":\"X-axis Label\"}},\"yaxis\":{\"title\":{\"text\":\"Y-axis Label\"}},\"zaxis\":{\"title\":{\"text\":\"Z-axis Label\"}},\"aspectmode\":\"cube\"},\"legend\":{\"title\":{\"text\":\"Data Category\"},\"tracegroupgap\":0,\"itemsizing\":\"constant\"},\"title\":{\"text\":\"3D Scatter Plot of Sample Data\"}},                        {\"responsive\": true}                    ).then(function(){\n",
              "                            \n",
              "var gd = document.getElementById('b99ab5fe-0443-4a6d-a1d2-dda9e924e016');\n",
              "var x = new MutationObserver(function (mutations, observer) {{\n",
              "        var display = window.getComputedStyle(gd).display;\n",
              "        if (!display || display === 'none') {{\n",
              "            console.log([gd, 'removed!']);\n",
              "            Plotly.purge(gd);\n",
              "            observer.disconnect();\n",
              "        }}\n",
              "}});\n",
              "\n",
              "// Listen for the removal of the full notebook cells\n",
              "var notebookContainer = gd.closest('#notebook-container');\n",
              "if (notebookContainer) {{\n",
              "    x.observe(notebookContainer, {childList: true});\n",
              "}}\n",
              "\n",
              "// Listen for the clearing of the current output cell\n",
              "var outputEl = gd.closest('.output');\n",
              "if (outputEl) {{\n",
              "    x.observe(outputEl, {childList: true});\n",
              "}}\n",
              "\n",
              "                        })                };                            </script>        </div>\n",
              "</body>\n",
              "</html>"
            ]
          },
          "metadata": {}
        }
      ]
    }
  ]
}